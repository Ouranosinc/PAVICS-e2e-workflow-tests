{
 "cells": [
  {
   "cell_type": "code",
   "execution_count": 9,
   "id": "a1dcf666-43f5-45e8-9fb1-6fd0b9c09675",
   "metadata": {},
   "outputs": [],
   "source": [
    "#!docker exec -it jupyter-cwtest py.test --nbval /notebook_dir/writable-workspace/Untitled.ipynb\n",
    "a = !docker"
   ]
  },
  {
   "cell_type": "code",
   "execution_count": 10,
   "id": "4d28eaa1-2a20-49e3-b0e4-bedbeeb3f58c",
   "metadata": {},
   "outputs": [],
   "source": [
    "assert 'Usage:  docker [OPTIONS] COMMAND' in a"
   ]
  },
  {
   "cell_type": "code",
   "execution_count": null,
   "id": "eba931e6-3331-4260-8f3f-a17ed4b2d30b",
   "metadata": {},
   "outputs": [],
   "source": []
  }
 ],
 "metadata": {
  "kernelspec": {
   "display_name": "Python 3 (ipykernel)",
   "language": "python",
   "name": "python3"
  },
  "language_info": {
   "codemirror_mode": {
    "name": "ipython",
    "version": 3
   },
   "file_extension": ".py",
   "mimetype": "text/x-python",
   "name": "python",
   "nbconvert_exporter": "python",
   "pygments_lexer": "ipython3",
   "version": "3.11.4"
  }
 },
 "nbformat": 4,
 "nbformat_minor": 5
}
