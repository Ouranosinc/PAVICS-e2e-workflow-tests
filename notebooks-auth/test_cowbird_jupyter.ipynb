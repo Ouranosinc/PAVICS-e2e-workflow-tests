{
 "cells": [
  {
   "cell_type": "markdown",
   "id": "0d19839d-707b-4526-bbf4-a7cffff75637",
   "metadata": {},
   "source": [
    "# Validating Cowbird user workspace on JupyterLab\n",
    "\n",
    "This notebook's purpose is to start a JupyterLab Docker container using Jupyterhub in order to validate the user's workspace in a JupyterLab environment that also uses Cowbird.\n",
    "The JupyterLab container will run the related notebook `resources/user_test_cowbird_jupyter.ipynb` which validates the different directories/files and user permissions.\n",
    "\n",
    "Also see the note about the usage of the [jhub-client](https://github.com/Quansight/jhub-client) in the notebook `resources/user_test_cowbird_jupyter.ipynb`.\n",
    "\n",
    "The different test files and the test user are all created in the optional-component [test-cowbird-jupyter-access](https://github.com/bird-house/birdhouse-deploy/tree/master/birdhouse/optional-components/test-cowbird-jupyter-access) on birdhouse. A script is executed by the container when the birdhouse stack is started, which setups everything required for this test. If receiving errors from this test, it could be worth also verifying the container`s logs in case the errors come from the initial setup from birdhouse."
   ]
  },
  {
   "cell_type": "code",
   "execution_count": 1,
   "id": "a5a0c430-a9c4-4aaf-af52-75c1b25a7a88",
   "metadata": {},
   "outputs": [],
   "source": [
    "from IPython.utils import io\n",
    "\n",
    "with io.capture_output() as captured:\n",
    "    !pip install jhub-client"
   ]
  },
  {
   "cell_type": "code",
   "execution_count": 2,
   "id": "b471357e-03b6-44ed-8a7f-386543286eb3",
   "metadata": {},
   "outputs": [],
   "source": [
    "# define some useful variables for following steps\n",
    "import json\n",
    "import os\n",
    "import requests\n",
    "import urllib3\n",
    "\n",
    "VERIFY_SSL = True if 'DISABLE_VERIFY_SSL' not in os.environ else False\n",
    "if not VERIFY_SSL:\n",
    "    urllib3.disable_warnings()  # disable warnings for using https without certificate verification enabled\n",
    "\n",
    "HEADERS = {\"Accept\": \"application/json\", \"Content-Type\": \"application/json\"}\n",
    "\n",
    "PAVICS_HOST = os.getenv(\"PAVICS_HOST\", \"pavics.ouranos.ca\")\n",
    "assert PAVICS_HOST != \"\", \"Invalid PAVICS HOST value.\"\n",
    "\n",
    "COWBIRD_URL = f\"https://{PAVICS_HOST}/cowbird\"\n",
    "JUPYTER_URL = f\"https://{PAVICS_HOST}/jupyter/\"\n",
    "JUPYTERHUB_URL = f\"https://{PAVICS_HOST}/jupyter/hub\"\n",
    "MAGPIE_URL = f\"https://{PAVICS_HOST}/magpie\"\n",
    "\n",
    "def get_credentials(var_name):\n",
    "    value = os.getenv(var_name)\n",
    "    if not value:\n",
    "        raise ValueError(\"Missing test admin credentials `{}` to run tests.\".format(var_name))\n",
    "    return value\n",
    "\n",
    "TEST_MAGPIE_ADMIN_USERNAME = get_credentials(\"TEST_MAGPIE_ADMIN_USERNAME\")\n",
    "TEST_MAGPIE_ADMIN_PASSWORD = get_credentials(\"TEST_MAGPIE_ADMIN_PASSWORD\")\n",
    "\n",
    "TEST_USER = os.getenv(\"TEST_COWBIRD_JUPYTERHUB_USERNAME\", \"testcowbirdjupyter\")"
   ]
  },
  {
   "cell_type": "code",
   "execution_count": 3,
   "id": "95b9d58d-0c8a-4d60-8c4e-020737dfbc33",
   "metadata": {},
   "outputs": [],
   "source": [
    "def response_msg(message, response, is_json=True):\n",
    "    \"\"\"Append useful response details to provided message.\"\"\"\n",
    "    _body = response.text\n",
    "    _detail = \"<unknown>\"\n",
    "    if is_json:\n",
    "        try:\n",
    "            _body = response.json()\n",
    "            _detail = _body.get(\"detail\", _body.get(\"message\", \"<unknown>\"))\n",
    "        except json.JSONDecodeError:\n",
    "            # ignore and revert to text body since it could not be parsed as JSON\n",
    "            _body = response.text\n",
    "    return \"{} Response replied with ({}) [{}]\\nContent: {}\\n\\n\".format(message, response.status_code, _detail, _body)"
   ]
  },
  {
   "cell_type": "code",
   "execution_count": 4,
   "id": "0a479abf-b1b9-488e-bc6b-64c0f088227b",
   "metadata": {},
   "outputs": [],
   "source": [
    "# Check if Cowbird is rolling, else display error\n",
    "assert requests.get(COWBIRD_URL, verify=VERIFY_SSL).status_code == 200, \"Cowbird is not available, but should be actiavted for this test.\""
   ]
  },
  {
   "cell_type": "code",
   "execution_count": 5,
   "id": "935ebcd5-b3f2-48d2-884d-ea0d6b27982f",
   "metadata": {},
   "outputs": [],
   "source": [
    "def magpie_signin(user_name, password):\n",
    "    signin_url = f\"{MAGPIE_URL}/signin\"\n",
    "    data = {\"user_name\": user_name, \"password\": password}\n",
    "    try:\n",
    "        resp = requests.request(url=signin_url, headers=HEADERS, method=\"POST\", json=data, timeout=10, verify=VERIFY_SSL)\n",
    "    except Exception as exc:\n",
    "        raise RuntimeError(f\"Failed to sign in to Magpie (url: `{signin_url}`) with user `{data['user_name']}`. \"\n",
    "                           f\"Exception : {exc}. \")\n",
    "    if resp.status_code != 200:\n",
    "        raise RuntimeError(f\"Unexpected response while trying to sign in to Magpie with user `{user_name}` : {resp.text}\")\n",
    "    return resp"
   ]
  },
  {
   "cell_type": "code",
   "execution_count": 6,
   "id": "975f8d9d-4d83-48e9-8fb7-e19e5c0e65a6",
   "metadata": {},
   "outputs": [],
   "source": [
    "magpie_admin_session = requests.Session()\n",
    "magpie_admin_session.verify = VERIFY_SSL\n",
    "magpie_admin_session.headers = HEADERS\n",
    "magpie_admin_session.cookies = magpie_signin(TEST_MAGPIE_ADMIN_USERNAME, TEST_MAGPIE_ADMIN_PASSWORD).cookies"
   ]
  },
  {
   "cell_type": "code",
   "execution_count": 7,
   "id": "e4f474f9-fa58-41de-b91c-911bc2cf6e4f",
   "metadata": {},
   "outputs": [],
   "source": [
    "# Make sure user exists on JupyterHub\n",
    "resp = magpie_admin_session.get(f\"{JUPYTERHUB_URL}/api/users\",\n",
    "    headers={\"Authorization\": \"Token admin-token\", \"Accept\": \"application/json\"})\n",
    "usernames = [user[\"name\"] for user in resp.json()]\n",
    "\n",
    "if TEST_USER not in usernames:\n",
    "    resp = magpie_admin_session.post(f\"{JUPYTERHUB_URL}/api/users/{TEST_USER}\",\n",
    "        headers={\"Authorization\": \"Token admin-token\", \"Accept\": \"application/json\"})\n",
    "    if resp.status_code != 201:\n",
    "        raise ValueError(response_msg(\"\\nFailed to create JupyterHub test user.\", resp))"
   ]
  },
  {
   "cell_type": "code",
   "execution_count": 8,
   "id": "fe2f4492-59a0-4219-b39c-f60f47c9d7bf",
   "metadata": {},
   "outputs": [],
   "source": [
    "# Get JupyterLab user token\n",
    "resp = magpie_admin_session.post(\n",
    "    f\"{JUPYTERHUB_URL}/api/users/{TEST_USER}/tokens\", \n",
    "    headers={\"Authorization\": \"Token admin-token\", \"Accept\": \"application/json\"})\n",
    "if resp.status_code != 201:\n",
    "    raise ValueError(response_msg(\"\\nFailed to create JupyterLab user token.\", resp))\n",
    "\n",
    "# Set env variable required by the jhub-client package\n",
    "os.environ[\"JUPYTERHUB_API_TOKEN\"] = resp.json()[\"token\"]"
   ]
  },
  {
   "cell_type": "code",
   "execution_count": 9,
   "id": "feb4c9e9-5e24-418a-8af0-6505c01253e0",
   "metadata": {},
   "outputs": [
    {
     "name": "stdout",
     "output_type": "stream",
     "text": [
      "INFO:jhub_client.api:creating cluster username=testcowbirdjupyter user_options={}\n",
      "INFO:jhub_client.api:created server for username=testcowbirdjupyter with user_options={}\n",
      "INFO:jhub_client.api:created kernel_spec=python3 kernel=126219f0-6ad7-4c24-b565-efd57fa05851 for jupyter\n",
      "INFO:jhub_client.api:deleted kernel=126219f0-6ad7-4c24-b565-efd57fa05851 for jupyter\n",
      "INFO:jhub_client.api:deleted server for username=testcowbirdjupyter\n"
     ]
    }
   ],
   "source": [
    "if VERIFY_SSL:\n",
    "    !jhubctl run --hub {JUPYTER_URL} --auth-type token -u {TEST_USER} -n resources/user_test_cowbird_jupyter.ipynb \\\n",
    "      --output-filename notebook_results.txt --stop-server --validate\n",
    "else:\n",
    "    !jhubctl run --hub {JUPYTER_URL} --auth-type token -u {TEST_USER} -n resources/user_test_cowbird_jupyter.ipynb \\\n",
    "      --no-verify-ssl --output-filename notebook_results.txt --stop-server --validate"
   ]
  },
  {
   "cell_type": "code",
   "execution_count": null,
   "id": "4c25746a-57bc-4ede-a429-9ef7989b9b76",
   "metadata": {},
   "outputs": [],
   "source": []
  }
 ],
 "metadata": {
  "kernelspec": {
   "display_name": "Python 3 (ipykernel)",
   "language": "python",
   "name": "python3"
  },
  "language_info": {
   "codemirror_mode": {
    "name": "ipython",
    "version": 3
   },
   "file_extension": ".py",
   "mimetype": "text/x-python",
   "name": "python",
   "nbconvert_exporter": "python",
   "pygments_lexer": "ipython3",
   "version": "3.11.4"
  }
 },
 "nbformat": 4,
 "nbformat_minor": 5
}
