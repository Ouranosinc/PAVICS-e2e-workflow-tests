{
 "cells": [
  {
   "cell_type": "code",
   "execution_count": 15,
   "id": "a5a0c430-a9c4-4aaf-af52-75c1b25a7a88",
   "metadata": {},
   "outputs": [
    {
     "name": "stdout",
     "output_type": "stream",
     "text": [
      "Requirement already satisfied: jhub-client in /home/cumminch/.conda/envs/pavics-sdi/lib/python3.11/site-packages (0.1.7)\n",
      "Requirement already satisfied: aiohttp in /home/cumminch/.conda/envs/pavics-sdi/lib/python3.11/site-packages (from jhub-client) (3.8.6)\n",
      "Requirement already satisfied: yarl in /home/cumminch/.conda/envs/pavics-sdi/lib/python3.11/site-packages (from jhub-client) (1.9.2)\n",
      "Requirement already satisfied: attrs>=17.3.0 in /home/cumminch/.conda/envs/pavics-sdi/lib/python3.11/site-packages (from aiohttp->jhub-client) (23.1.0)\n",
      "Requirement already satisfied: charset-normalizer<4.0,>=2.0 in /home/cumminch/.conda/envs/pavics-sdi/lib/python3.11/site-packages (from aiohttp->jhub-client) (3.2.0)\n",
      "Requirement already satisfied: multidict<7.0,>=4.5 in /home/cumminch/.conda/envs/pavics-sdi/lib/python3.11/site-packages (from aiohttp->jhub-client) (6.0.4)\n",
      "Requirement already satisfied: async-timeout<5.0,>=4.0.0a3 in /home/cumminch/.conda/envs/pavics-sdi/lib/python3.11/site-packages (from aiohttp->jhub-client) (4.0.3)\n",
      "Requirement already satisfied: frozenlist>=1.1.1 in /home/cumminch/.conda/envs/pavics-sdi/lib/python3.11/site-packages (from aiohttp->jhub-client) (1.4.0)\n",
      "Requirement already satisfied: aiosignal>=1.1.2 in /home/cumminch/.conda/envs/pavics-sdi/lib/python3.11/site-packages (from aiohttp->jhub-client) (1.3.1)\n",
      "Requirement already satisfied: idna>=2.0 in /home/cumminch/.conda/envs/pavics-sdi/lib/python3.11/site-packages (from yarl->jhub-client) (3.4)\n"
     ]
    }
   ],
   "source": [
    "# TODO: move to requirements\n",
    "!pip install jhub-client"
   ]
  },
  {
   "cell_type": "code",
   "execution_count": 16,
   "id": "b471357e-03b6-44ed-8a7f-386543286eb3",
   "metadata": {},
   "outputs": [
    {
     "name": "stdout",
     "output_type": "stream",
     "text": [
      "Setup configuration parameters...\n",
      "  Verify SSL : False\n",
      "  Will use JupyterHub URL:   [https://172.17.0.1/jupyter/hub]\n"
     ]
    }
   ],
   "source": [
    "# define some useful variables for following steps\n",
    "import json\n",
    "import os\n",
    "from pathlib import Path\n",
    "import requests\n",
    "import urllib3\n",
    "\n",
    "print(\"Setup configuration parameters...\")\n",
    "\n",
    "VERIFY_SSL = True if 'DISABLE_VERIFY_SSL' not in os.environ else False\n",
    "if not VERIFY_SSL:\n",
    "    urllib3.disable_warnings()  # disable warnings for using https without certificate verification enabled\n",
    "\n",
    "HEADERS = {\"Accept\": \"application/json\", \"Content-Type\": \"application/json\"}\n",
    "\n",
    "PAVICS_HOST = os.getenv(\"PAVICS_HOST\", \"pavics.ouranos.ca\")\n",
    "assert PAVICS_HOST != \"\", \"Invalid PAVICS HOST value.\"\n",
    "\n",
    "TEST_DISABLE_CLEANUP = str(os.getenv(\"TEST_DISABLE_CLEANUP\", False)).lower() in [\"true\", \"1\", \"on\"]\n",
    "\n",
    "COWBIRD_URL = f\"https://{PAVICS_HOST}/cowbird\"\n",
    "JUPYTERHUB_URL = f\"https://{PAVICS_HOST}/jupyter/hub\"\n",
    "MAGPIE_URL = f\"https://{PAVICS_HOST}/magpie\"\n",
    "\n",
    "def get_credentials(var_name):\n",
    "    value = os.getenv(var_name)\n",
    "    if not value:\n",
    "        raise ValueError(\"Missing test admin credentials `{}` to run tests.\".format(var_name))\n",
    "    return value\n",
    "\n",
    "TEST_MAGPIE_ADMIN_USERNAME = get_credentials(\"TEST_MAGPIE_ADMIN_USERNAME\")\n",
    "TEST_MAGPIE_ADMIN_PASSWORD = get_credentials(\"TEST_MAGPIE_ADMIN_PASSWORD\")\n",
    "\n",
    "TEST_USER = \"testcowbirdjupyter\"\n",
    "TEST_PASSWORD = \"qwertyqwerty\"\n",
    "\n",
    "GEOSERVER_TEST_DATA_DIR = os.getenv(\"GEOSERVER_TEST_DATA_DIR\", \"/geoserver-test-data\")\n",
    "\n",
    "print(\"  Verify SSL : {}\".format(VERIFY_SSL))\n",
    "print(\"  Will use JupyterHub URL:   [{}]\".format(JUPYTERHUB_URL))"
   ]
  },
  {
   "cell_type": "code",
   "execution_count": 17,
   "id": "077b3f3f-b4d8-490c-adc9-3d29b871d0e5",
   "metadata": {},
   "outputs": [],
   "source": [
    "def cleanup_test_data(skip_fail=True):\n",
    "    \"\"\"Cleanup test elements created during the test.\n",
    "\n",
    "        Only raise at the complete end to attempt removal of as much element as possible in case of failures.\n",
    "        \"\"\"\n",
    "    if TEST_DISABLE_CLEANUP:\n",
    "        print(\"WARNING - Skipping test data cleanup because of TEST_DISABLE_CLEANUP option!\")\n",
    "        return\n",
    "\n",
    "    failed = False\n",
    "\n",
    "    # Cleanup Magpie users and resources\n",
    "    magpie_items = [(\"users\", \"MAGPIE_TEST_USER\", TEST_USER)]\n",
    "    # Apply cleanup of Magpie items\n",
    "    for item_type, item_name, item_value in magpie_items:\n",
    "        try:\n",
    "            _path = \"{}/{}/{}\".format(MAGPIE_URL, item_type, item_value)\n",
    "            _resp = magpie_admin_session.delete(_path)\n",
    "            _head = \"Cleanup of {} :\".format(item_name)\n",
    "            if _resp.status_code == 200:\n",
    "                print(_head, \"OK\")\n",
    "            elif _resp.status_code == 404:\n",
    "                print(_head, \"WARNING - does not exist (maybe it failed to be created in the first place?)\")\n",
    "                failed = True  # most definitely the test is already failing at this point anyway\n",
    "            else:\n",
    "                print(_head, \"ERROR - could not be removed\")\n",
    "                failed = True\n",
    "        except Exception as exc:\n",
    "            print(\"Magpie cleanup raised: [{}]\".format(exc))\n",
    "            failed = True\n",
    "    if not skip_fail and failed:\n",
    "        raise ValueError(\"Could not cleanup all test data.\")"
   ]
  },
  {
   "cell_type": "code",
   "execution_count": 18,
   "id": "95b9d58d-0c8a-4d60-8c4e-020737dfbc33",
   "metadata": {},
   "outputs": [],
   "source": [
    "def response_msg(message, response, is_json=True):\n",
    "    \"\"\"Append useful response details to provided message.\"\"\"\n",
    "    _body = response.text\n",
    "    _detail = \"<unknown>\"\n",
    "    if is_json:\n",
    "        try:\n",
    "            _body = response.json()\n",
    "            _detail = _body.get(\"detail\", _body.get(\"message\", \"<unknown>\"))\n",
    "        except json.JSONDecodeError:\n",
    "            # ignore and revert to text body since it could not be parsed as JSON\n",
    "            _body = response.text\n",
    "    return \"{} Response replied with ({}) [{}]\\nContent: {}\\n\\n\".format(message, response.status_code, _detail, _body)"
   ]
  },
  {
   "cell_type": "code",
   "execution_count": 19,
   "id": "0a479abf-b1b9-488e-bc6b-64c0f088227b",
   "metadata": {},
   "outputs": [],
   "source": [
    "# Check if Cowbird is rolling, else display error\n",
    "assert requests.get(COWBIRD_URL, verify=VERIFY_SSL).status_code == 200, \"Cowbird is not available, but should be actiavted for this test.\""
   ]
  },
  {
   "cell_type": "code",
   "execution_count": 20,
   "id": "6a0c954a-6246-4a23-86b0-55a749622c39",
   "metadata": {},
   "outputs": [],
   "source": [
    "# Create user on Magpie"
   ]
  },
  {
   "cell_type": "code",
   "execution_count": 21,
   "id": "935ebcd5-b3f2-48d2-884d-ea0d6b27982f",
   "metadata": {},
   "outputs": [],
   "source": [
    "def magpie_signin(user_name, password):\n",
    "    signin_url = f\"{MAGPIE_URL}/signin\"\n",
    "    data = {\"user_name\": user_name, \"password\": password}\n",
    "    try:\n",
    "        resp = requests.request(url=signin_url, headers=HEADERS, method=\"POST\", json=data, timeout=10, verify=VERIFY_SSL)\n",
    "    except Exception as exc:\n",
    "        raise RuntimeError(f\"Failed to sign in to Magpie (url: `{signin_url}`) with user `{data['user_name']}`. \"\n",
    "                           f\"Exception : {exc}. \")\n",
    "    if resp.status_code != 200:\n",
    "        raise RuntimeError(f\"Unexpected response while trying to sign in to Magpie with user `{user_name}` : {resp.text}\")\n",
    "    return resp"
   ]
  },
  {
   "cell_type": "code",
   "execution_count": 22,
   "id": "975f8d9d-4d83-48e9-8fb7-e19e5c0e65a6",
   "metadata": {},
   "outputs": [],
   "source": [
    "magpie_admin_session = requests.Session()\n",
    "magpie_admin_session.verify = VERIFY_SSL\n",
    "magpie_admin_session.headers = HEADERS\n",
    "magpie_admin_session.cookies = magpie_signin(TEST_MAGPIE_ADMIN_USERNAME, TEST_MAGPIE_ADMIN_PASSWORD).cookies\n",
    "\n",
    "test_user_session = requests.Session()\n",
    "test_user_session.verify = VERIFY_SSL\n",
    "test_user_session.headers = HEADERS"
   ]
  },
  {
   "cell_type": "code",
   "execution_count": 24,
   "id": "665c6be3-399a-4a84-aafc-df30923b3e59",
   "metadata": {},
   "outputs": [],
   "source": [
    "def create_magpie_user(user_name, password, session):\n",
    "    resp = magpie_admin_session.post(\n",
    "        url=f\"{MAGPIE_URL}/users\",\n",
    "        json={\n",
    "            \"user_name\": user_name,\n",
    "            \"email\": f\"{user_name}@user.com\",\n",
    "            \"password\": password,\n",
    "            \"group_name\": \"users\"},\n",
    "        allow_redirects=False)\n",
    "    if resp.status_code != 201:\n",
    "        cleanup_test_data()\n",
    "        raise ValueError(response_msg(\"\\nCould not create test user [{}]\".format(user_name), resp))\n",
    "    session.cookies = magpie_signin(user_name, password).cookies\n",
    "\n",
    "create_magpie_user(TEST_USER, TEST_PASSWORD, test_user_session)"
   ]
  },
  {
   "cell_type": "code",
   "execution_count": 31,
   "id": "9257d200-464c-46fe-a659-70a2d6a830a4",
   "metadata": {},
   "outputs": [
    {
     "ename": "ValueError",
     "evalue": "(['datasets', 'frontend_persist', 'geoserver', 'jupyterhub_user_data', 'magpie_persist', 'mongodb_cowbird_persist', 'ncml', 'user_workspaces'], ['admin', 'cwtest', 'public', 'testcowbirdjupyter', 'test-user-0708ff64-61ba-48bd-ad06-6f5c1c58097d', 'test-user-20f934e3-0099-4b22-af70-04d9896a8328', 'test-user-ddb725f4-cd16-47a3-af20-b2395531310b', 'test-user-no-perm-0ad33a01-7df0-4c74-ab7b-d3ab0e356370', 'test-user-no-perm-8754ddb7-2647-4f92-bd33-aebf78796a68', 'test-user-no-perm-d5eef900-55b6-4157-b19c-669ada56ccd5'])",
     "output_type": "error",
     "traceback": [
      "\u001b[0;31m---------------------------------------------------------------------------\u001b[0m",
      "\u001b[0;31mValueError\u001b[0m                                Traceback (most recent call last)",
      "Cell \u001b[0;32mIn[31], line 10\u001b[0m\n\u001b[1;32m      7\u001b[0m res \u001b[38;5;241m=\u001b[39m get_ipython()\u001b[38;5;241m.\u001b[39mgetoutput(\u001b[38;5;124m'\u001b[39m\u001b[38;5;124mls /data\u001b[39m\u001b[38;5;124m'\u001b[39m)\n\u001b[1;32m      8\u001b[0m res2 \u001b[38;5;241m=\u001b[39m get_ipython()\u001b[38;5;241m.\u001b[39mgetoutput(\u001b[38;5;124m'\u001b[39m\u001b[38;5;124mls /data/user_workspaces\u001b[39m\u001b[38;5;124m'\u001b[39m)\n\u001b[0;32m---> 10\u001b[0m \u001b[38;5;28;01mraise\u001b[39;00m \u001b[38;5;167;01mValueError\u001b[39;00m(res, res2)\n",
      "\u001b[0;31mValueError\u001b[0m: (['datasets', 'frontend_persist', 'geoserver', 'jupyterhub_user_data', 'magpie_persist', 'mongodb_cowbird_persist', 'ncml', 'user_workspaces'], ['admin', 'cwtest', 'public', 'testcowbirdjupyter', 'test-user-0708ff64-61ba-48bd-ad06-6f5c1c58097d', 'test-user-20f934e3-0099-4b22-af70-04d9896a8328', 'test-user-ddb725f4-cd16-47a3-af20-b2395531310b', 'test-user-no-perm-0ad33a01-7df0-4c74-ab7b-d3ab0e356370', 'test-user-no-perm-8754ddb7-2647-4f92-bd33-aebf78796a68', 'test-user-no-perm-d5eef900-55b6-4157-b19c-669ada56ccd5'])"
     ]
    }
   ],
   "source": [
    "# Add geoserver shapefiles to user workspace ???\n",
    "# for filename in os.listdir(GEOSERVER_TEST_DATA_DIR):\n",
    "#     shutil.copy2(os.path.join(GEOSERVER_TEST_DATA_DIR, filename), # TARGET_PATH^??????\n",
    "\n",
    "#     Faire un 2e shapefile (copie) qui est read-only, pour que Magpie set les permissions directement\n",
    "\n",
    "res = !ls /data\n",
    "res2 = !ls /data/user_workspaces\n",
    "\n",
    "raise ValueError(res, res2)"
   ]
  },
  {
   "cell_type": "code",
   "execution_count": null,
   "id": "84c7edc7-9459-467c-babb-cc9719bac0a9",
   "metadata": {},
   "outputs": [],
   "source": [
    "# Change Geoserver permissions"
   ]
  },
  {
   "cell_type": "code",
   "execution_count": null,
   "id": "f383ea6f-f81c-4dbf-86f9-1cfecf4434a2",
   "metadata": {},
   "outputs": [],
   "source": [
    "# Add wps-outputs\n",
    "# Créer un fichier ici, et le copier dans les paths de wpsoutputs?? Pour que les hardlinks soient générés correctement\n",
    "\n",
    "# public\n",
    "# user specific"
   ]
  },
  {
   "cell_type": "code",
   "execution_count": 25,
   "id": "fe2f4492-59a0-4219-b39c-f60f47c9d7bf",
   "metadata": {},
   "outputs": [],
   "source": [
    "# Get JupyterLab user token\n",
    "resp = magpie_admin_session.post(\n",
    "    f\"{JUPYTERHUB_URL}/api/users/{TEST_USER}/tokens\", \n",
    "    headers={\"Authorization\": \"Token admin-token\", \"Accept\": \"application/json\"})\n",
    "if resp.status_code != 201:\n",
    "    raise ValueError(response_msg(\"\\nFailed to start JupyterLab Docker container.\", resp))\n",
    "os.environ[\"JUPYTERHUB_API_TOKEN\"] = resp.json()[\"token\"]"
   ]
  },
  {
   "cell_type": "code",
   "execution_count": 26,
   "id": "feb4c9e9-5e24-418a-8af0-6505c01253e0",
   "metadata": {},
   "outputs": [
    {
     "name": "stdout",
     "output_type": "stream",
     "text": [
      "INFO:jhub_client.api:creating cluster username=testcowbirdjupyter user_options={}\n",
      "INFO:jhub_client.api:created server for username=testcowbirdjupyter with user_options={}\n",
      "INFO:jhub_client.api:created kernel_spec=python3 kernel=d9f1df06-3526-4d00-8e81-766981d2eab0 for jupyter\n",
      "INFO:jhub_client.api:deleted kernel=d9f1df06-3526-4d00-8e81-766981d2eab0 for jupyter\n",
      "INFO:jhub_client.api:deleted server for username=testcowbirdjupyter\n"
     ]
    }
   ],
   "source": [
    "!jhubctl run --hub \"https://localhost/jupyter/\" --auth-type token -u testcowbirdjupyter -n resources/user_test_cowbird_jupyter.ipynb \\\n",
    "  --no-verify-ssl --output-filename notebook_results.txt --stop-server --validate"
   ]
  },
  {
   "cell_type": "code",
   "execution_count": null,
   "id": "96638cf1-d335-4cbc-9203-d06bd65268d1",
   "metadata": {},
   "outputs": [],
   "source": [
    "# Create JupyterLab Docker container\n",
    "# resp = magpie_admin_session.post(\n",
    "#     f\"{JUPYTERHUB_URL}/api/users/{TEST_USER}/server\", \n",
    "#     headers={\"Authorization\": \"Token admin-token\", \"Accept\": \"application/json\"})\n",
    "# if resp.status_code != 201:\n",
    "#     raise ValueError(response_msg(\"\\nFailed to start JupyterLab Docker container.\", resp))"
   ]
  },
  {
   "cell_type": "code",
   "execution_count": null,
   "id": "4c25746a-57bc-4ede-a429-9ef7989b9b76",
   "metadata": {},
   "outputs": [],
   "source": [
    "# Execute nbval on the user test on the spawned container\n",
    "# !docker exec -it jupyter-{TEST_USER} py.test --nbval /notebook_dir/test_cowbird_jupyter_test_user.ipynb"
   ]
  },
  {
   "cell_type": "code",
   "execution_count": null,
   "id": "19a49ccf-4778-46ee-baf2-065b0cd425a2",
   "metadata": {},
   "outputs": [],
   "source": [
    "# Test delete user on Magpie\n",
    "# Check if workspace folder and geoserver workspace are deleted"
   ]
  },
  {
   "cell_type": "code",
   "execution_count": null,
   "id": "aa163942-d359-46ec-bf28-cd799adb57e6",
   "metadata": {},
   "outputs": [],
   "source": [
    "# Clean-up (if not already deleted)\n",
    "# Magpie resources (Geoserver, wps-outputs)\n",
    "# Magpie user\n",
    "# Filesystem (workspace, wps-outputs de test public/user, user notebook_dir in jupyterhub_user_data)\n",
    "# geoserver workspace"
   ]
  },
  {
   "cell_type": "code",
   "execution_count": null,
   "id": "d7669be5-98f2-47f2-a979-b94de09fef42",
   "metadata": {},
   "outputs": [],
   "source": []
  }
 ],
 "metadata": {
  "kernelspec": {
   "display_name": "Python 3 (ipykernel)",
   "language": "python",
   "name": "python3"
  },
  "language_info": {
   "codemirror_mode": {
    "name": "ipython",
    "version": 3
   },
   "file_extension": ".py",
   "mimetype": "text/x-python",
   "name": "python",
   "nbconvert_exporter": "python",
   "pygments_lexer": "ipython3",
   "version": "3.11.4"
  }
 },
 "nbformat": 4,
 "nbformat_minor": 5
}
