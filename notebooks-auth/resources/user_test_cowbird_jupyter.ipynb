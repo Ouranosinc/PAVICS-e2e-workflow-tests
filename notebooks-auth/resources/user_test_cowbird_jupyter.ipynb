{
 "cells": [
  {
   "cell_type": "markdown",
   "id": "c9ec78fe-eddc-4f0b-af6c-f491a82ec35c",
   "metadata": {},
   "source": [
    "# Validating Cowbird user workspace on JupyterLab\n",
    "\n",
    "This notebook checks that the user workspace is set up correctly by Cowbird and that the different related folders/files are accessible as expected on JupyterLab.\n",
    "\n",
    "Note that this notebook is executed by the main notebook `notebooks-auth/test_cowbird_jupyter.ipynb`. It is executed using the [jhub-client](https://github.com/Quansight/jhub-client) package, although the package lacks certain features, such as displaying errors found in a notebook. This requires that the code found in this notebook displays errors with `print` instead of just raising an exception, since exceptions would not be detected by the package.\n",
    "\n",
    "Another solution would have been to start this notebook using `nbval` and `docker exec` from the other notebook, but this would have required installing Docker on the `PAVICS-e2e-workflow-tests` image and mounting the Docker socket on the test container used in Jenkins, in order to be able to start and execute command on an external Docker container, outside of the test container. Mounting the Docker socket could bring some security issues, since it gives root access on the host, which made using [jhub-client](https://github.com/Quansight/jhub-client) preferable."
   ]
  },
  {
   "cell_type": "code",
   "execution_count": null,
   "id": "2a4464e8-5a3c-4849-8ba0-f93affc24191",
   "metadata": {},
   "outputs": [],
   "source": [
    "import os\n",
    "import shutil\n",
    "import traceback\n",
    "from pathlib import Path\n",
    "\n",
    "def get_env(var_name):\n",
    "    value = os.getenv(var_name)\n",
    "    if not value:\n",
    "        print(\"Missing environment variable `{}` required to run tests.\".format(var_name))\n",
    "    return value\n",
    "\n",
    "test_user = get_env(\"TEST_COWBIRD_JUPYTERHUB_USERNAME\")\n",
    "\n",
    "# Path variables\n",
    "jupyterhub_user_data_dir = get_env(\"JUPYTERHUB_USER_DATA_DIR\")\n",
    "notebook_dir = get_env(\"NOTEBOOK_DIR\")\n",
    "workspace_dir = get_env(\"WORKSPACE_DIR\")"
   ]
  },
  {
   "cell_type": "markdown",
   "id": "5dd7efa5-8c7e-43b2-93c5-3e1a8ee898f5",
   "metadata": {},
   "source": [
    "Check the user's `notebooks` directory, which should be a symlink to the user's Jupyterhub notebook directory."
   ]
  },
  {
   "cell_type": "code",
   "execution_count": null,
   "id": "7515cdbb-e2a3-4940-8854-30f616fe6014",
   "metadata": {},
   "outputs": [],
   "source": [
    "try:\n",
    "    notebook_symlink_target_path = os.path.join(workspace_dir, \"notebooks\")\n",
    "    assert os.path.islink(notebook_symlink_target_path), f\"AssertionError: `{notebook_symlink_target_path}` is not a valid symlink.\"\n",
    "    \n",
    "    notebook_symlink_src_path = os.readlink(notebook_symlink_target_path)\n",
    "    expected_symlink_src_path = os.path.join(jupyterhub_user_data_dir, test_user)\n",
    "    assert notebook_symlink_src_path == expected_symlink_src_path, \\\n",
    "        f\"AssertionError: Notebook symlink source path `{notebook_symlink_src_path}` does not correspond to the expected source path `{expected_symlink_src_path}`.\"\n",
    "except Exception as exc:\n",
    "    traceback.print_exc()"
   ]
  },
  {
   "cell_type": "markdown",
   "id": "515cb310-473c-41d0-8e73-cde3ff5a8c4d",
   "metadata": {},
   "source": [
    "Check if the Geoserver datastore folder is setup correctly and if the user can create files in it"
   ]
  },
  {
   "cell_type": "code",
   "execution_count": null,
   "id": "d4a7f1c7-a1b3-4114-a3c0-528a4617cd92",
   "metadata": {},
   "outputs": [],
   "source": [
    "user_datastore_path = os.path.join(workspace_dir, \"shapefile_datastore\")\n",
    "\n",
    "try:\n",
    "    assert os.path.isdir(user_datastore_path)\n",
    "    test_filepath = f\"{user_datastore_path}/test.txt\"\n",
    "    Path(test_filepath).touch()\n",
    "    assert os.path.exists(test_filepath)\n",
    "except Exception as exc:\n",
    "    traceback.print_exc()"
   ]
  },
  {
   "cell_type": "markdown",
   "id": "7dcb38af-6f16-43ec-a45b-5cb3cb29c860",
   "metadata": {},
   "source": [
    "Check file permissions for Geoserver and WPS outputs files. `chown` / `chmod` commands should not be allowed to the user."
   ]
  },
  {
   "cell_type": "code",
   "execution_count": null,
   "id": "42cb3855-694a-4a2e-9b77-8e5813667afd",
   "metadata": {},
   "outputs": [],
   "source": [
    "public_wps_outputs_filepath = os.path.join(notebook_dir, \"public/wps_outputs/weaver/public/3dc704a8-e1f6-4fe8-8bf0-153cf1e52c7a/output/test_public_file.txt\")\n",
    "user_wps_outputs_filepath = os.path.join(workspace_dir, \"wps_outputs/weaver/test_user_file.txt\")\n",
    "rw_shapefile_path = os.path.join(user_datastore_path, \"Espace_Vert_rw.shp\")\n",
    "ro_shapefile_path = os.path.join(user_datastore_path, \"Espace_Vert_ro.shp\")\n",
    "\n",
    "OPERATION_NOT_PERMITTED_ERRNO = 1\n",
    "READ_ONLY_FILE_SYSTEM_ERRNO = 30\n",
    "\n",
    "try:\n",
    "    for file, expected_errno, expected_write in [(public_wps_outputs_filepath, READ_ONLY_FILE_SYSTEM_ERRNO, False), \n",
    "                                                 (user_wps_outputs_filepath, OPERATION_NOT_PERMITTED_ERRNO, False),\n",
    "                                                 (rw_shapefile_path, OPERATION_NOT_PERMITTED_ERRNO, True),\n",
    "                                                 (ro_shapefile_path, OPERATION_NOT_PERMITTED_ERRNO, False)]:\n",
    "        os.path.exists(file)\n",
    "\n",
    "        # Try write operations\n",
    "        write_successful = False\n",
    "        try:\n",
    "            with open(file, \"a\") as f:\n",
    "               f.write(\"new text\")\n",
    "            write_successful = True\n",
    "        except PermissionError as exc:\n",
    "            # Expected error\n",
    "            pass\n",
    "        assert write_successful == expected_write\n",
    "\n",
    "        # Try chmod operation\n",
    "        chmod_error = False\n",
    "        try:\n",
    "            os.chmod(file, 0o777)\n",
    "        except OSError as exc:\n",
    "            # Expected error\n",
    "            chmod_error = True\n",
    "            try:\n",
    "                assert exc.errno == expected_errno, f\"Unexpected OSError : {exc}\"\n",
    "            except Exception as assert_exc:\n",
    "                traceback.print_exc()\n",
    "        assert chmod_error\n",
    "\n",
    "        # Try chown operation\n",
    "        chown_error = False\n",
    "        try:\n",
    "            os.chown(file, 0, 0)  # try to change ownership to default root uid/gid\n",
    "        except OSError as exc:\n",
    "            # Expected error\n",
    "            chown_error = True\n",
    "            try:\n",
    "                assert exc.errno == expected_errno, f\"Unexpected OSError : {exc}\"\n",
    "            except Exception as assert_exc:\n",
    "                traceback.print_exc()\n",
    "        assert chown_error\n",
    "except Exception as exc:\n",
    "    traceback.print_exc()\n"
   ]
  },
  {
   "cell_type": "code",
   "execution_count": null,
   "id": "11ff8360-bec4-472b-8f1d-f2f6367ad574",
   "metadata": {},
   "outputs": [],
   "source": []
  }
 ],
 "metadata": {
  "kernelspec": {
   "display_name": "Python 3 (ipykernel)",
   "language": "python",
   "name": "python3"
  },
  "language_info": {
   "codemirror_mode": {
    "name": "ipython",
    "version": 3
   },
   "file_extension": ".py",
   "mimetype": "text/x-python",
   "name": "python",
   "nbconvert_exporter": "python",
   "pygments_lexer": "ipython3",
   "version": "3.11.4"
  }
 },
 "nbformat": 4,
 "nbformat_minor": 5
}
