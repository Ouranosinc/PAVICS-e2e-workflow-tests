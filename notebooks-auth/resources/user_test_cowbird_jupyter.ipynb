{
 "cells": [
  {
   "cell_type": "code",
   "execution_count": null,
   "id": "3b4ebec4-c7ef-4ec6-8016-c3360715d1e8",
   "metadata": {},
   "outputs": [],
   "source": [
    "# Check workspace structure"
   ]
  },
  {
   "cell_type": "code",
   "execution_count": null,
   "id": "2a4464e8-5a3c-4849-8ba0-f93affc24191",
   "metadata": {},
   "outputs": [],
   "source": [
    "import os\n",
    "import shutil\n",
    "\n",
    "def get_env(var_name):\n",
    "    value = os.getenv(var_name)\n",
    "    if not value:\n",
    "        print(\"Missing environment variable `{}` required to run tests.\".format(var_name))\n",
    "    return value\n",
    "\n",
    "test_user = get_env(\"TEST_USER\")\n",
    "\n",
    "# Path variables\n",
    "geoserver_test_data_dir = get_env(\"GEOSERVER_TEST_DATA_DIR\")\n",
    "jupyterhub_user_data_dir = get_env(\"JUPYTERHUB_USER_DATA_DIR\")\n",
    "notebook_dir = get_env(\"NOTEBOOK_DIR\")\n",
    "workspace_dir = get_env(\"WORKSPACE_DIR\")"
   ]
  },
  {
   "cell_type": "code",
   "execution_count": null,
   "id": "7515cdbb-e2a3-4940-8854-30f616fe6014",
   "metadata": {},
   "outputs": [],
   "source": [
    "# notebooks\n",
    "try:\n",
    "    notebook_symlink_target_path = os.path.join(workspace_dir, \"notebooks\")\n",
    "    assert os.path.islink(notebook_symlink_target_path), f\"AssertionError: `{notebook_symlink_target_path}` is not a valid symlink.\"\n",
    "    \n",
    "    notebook_symlink_src_path = os.readlink(notebook_symlink_target_path)\n",
    "    expected_symlink_src_path = os.path.join(jupyterhub_user_data_dir, test_user)\n",
    "    assert notebook_symlink_src_path == expected_symlink_src_path, \\\n",
    "        f\"AssertionError: Notebook symlink source path `{notebook_symlink_src_path}` does not correspond to the expected source path `{expected_symlink_src_path}`.\"\n",
    "except Exception as exc:\n",
    "    print(f\"Error [{exc}]\""
   ]
  },
  {
   "cell_type": "code",
   "execution_count": null,
   "id": "d4a7f1c7-a1b3-4114-a3c0-528a4617cd92",
   "metadata": {},
   "outputs": [],
   "source": [
    "# datastore\n",
    "user_datastore_path = os.path.join(workspace_dir, \"shapefile_datastore\")\n",
    "assert os.path.isdir(user_datastore_path)\n",
    "\n",
    "# FIXME : shapefile_datastore folder is read-only for others, and the owner is root. Can't add files to the folder\n",
    "# for fname in os.listdir(geoserver_test_data_dir):\n",
    "#     shutil.copy2(os.path.join(geoserver_test_data_dir,fname), os.path.join(workspace_dir, \"shapefile_datastore\"))\n",
    "\n",
    "  # permissions (chown / chmod non permis)\n"
   ]
  },
  {
   "cell_type": "code",
   "execution_count": null,
   "id": "42cb3855-694a-4a2e-9b77-8e5813667afd",
   "metadata": {},
   "outputs": [],
   "source": [
    "# public dir\n",
    "    # chown / chmod non permis\n",
    "    # tjrs read-only"
   ]
  },
  {
   "cell_type": "code",
   "execution_count": null,
   "id": "dc842d6c-6f38-4dc4-9d4e-26e53cfebfd7",
   "metadata": {},
   "outputs": [],
   "source": [
    "# wps_outputs user\n",
    "    # chown / chmod non permis\n",
    "    # tjrs read-only"
   ]
  },
  {
   "cell_type": "code",
   "execution_count": null,
   "id": "5872124b-0fbd-4e78-8156-0c16227e14eb",
   "metadata": {},
   "outputs": [],
   "source": []
  },
  {
   "cell_type": "code",
   "execution_count": null,
   "id": "11ff8360-bec4-472b-8f1d-f2f6367ad574",
   "metadata": {},
   "outputs": [],
   "source": []
  }
 ],
 "metadata": {
  "kernelspec": {
   "display_name": "Python 3 (ipykernel)",
   "language": "python",
   "name": "python3"
  },
  "language_info": {
   "codemirror_mode": {
    "name": "ipython",
    "version": 3
   },
   "file_extension": ".py",
   "mimetype": "text/x-python",
   "name": "python",
   "nbconvert_exporter": "python",
   "pygments_lexer": "ipython3",
   "version": "3.11.4"
  }
 },
 "nbformat": 4,
 "nbformat_minor": 5
}
