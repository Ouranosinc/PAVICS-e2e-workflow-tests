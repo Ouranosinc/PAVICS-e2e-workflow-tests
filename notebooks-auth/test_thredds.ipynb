{
 "cells": [
  {
   "cell_type": "markdown",
   "metadata": {
    "pycharm": {
     "name": "#%% md\n"
    }
   },
   "source": [
    "# Test THREDDS using Magpie Authentication/Authorization against Twitcher proxy."
   ]
  },
  {
   "cell_type": "markdown",
   "metadata": {
    "pycharm": {
     "name": "#%% md\n"
    }
   },
   "source": [
    "## Configuration parameters"
   ]
  },
  {
   "cell_type": "code",
   "execution_count": 1,
   "metadata": {
    "pycharm": {
     "name": "#%%\n"
    }
   },
   "outputs": [
    {
     "name": "stdout",
     "output_type": "stream",
     "text": [
      "Setup configuration parameters...\n",
      "  Will use Magpie URL:       [https://host-140-36.rdext.crim.ca/magpie]\n",
      "  Will use Twitcher URL:     [https://host-140-36.rdext.crim.ca/twitcher/ows/proxy]\n",
      "  Will use THREDDS service:  [thredds]\n"
     ]
    }
   ],
   "source": [
    "# NBVAL_IGNORE_OUTPUT\n",
    "\n",
    "from __future__ import print_function\n",
    "import os\n",
    "import uuid\n",
    "import requests\n",
    "print(\"Setup configuration parameters...\")\n",
    "\n",
    "PAVICS_HOST = os.getenv(\"PAVICS_HOST\", \"pavics.ouranos.ca\").rstrip(\"/\")\n",
    "if not PAVICS_HOST:\n",
    "    raise ValueError(\"Cannot run test without a PAVICS_HOST value.\")\n",
    "\n",
    "PAVICS_URL = \"https://{}\".format(PAVICS_HOST)\n",
    "VERIFY_SSL = True if \"DISABLE_VERIFY_SSL\" not in os.environ else False\n",
    "MAGPIE_URL = PAVICS_URL + \"/magpie\"\n",
    "TWITCHER_PROXY = \"/twitcher/ows/proxy\"\n",
    "TWITCHER_URL = PAVICS_URL + TWITCHER_PROXY\n",
    "THREDDS_SERVICE = \"thredds\"\n",
    "THREDDS_URL = \"{}/{}\".format(TWITCHER_URL, THREDDS_SERVICE)\n",
    "\n",
    "HEADERS = {\"Accept\": \"application/json\", \"Content-Type\": \"application/json\"}\n",
    "\n",
    "MAGPIE_ANONYMOUS_GROUP = \"anonymous\"\n",
    "TEST_MAGPIE_ADMIN_USERNAME = os.getenv(\"TEST_MAGPIE_ADMIN_USERNAME\")\n",
    "TEST_MAGPIE_ADMIN_PASSWORD = os.getenv(\"TEST_MAGPIE_ADMIN_PASSWORD\")\n",
    "if not TEST_MAGPIE_ADMIN_USERNAME or not TEST_MAGPIE_ADMIN_PASSWORD:\n",
    "    raise ValueError(\"Missing test admin credentials to run tests.\")\n",
    "\n",
    "print(\"  Will use Magpie URL:       [{}]\".format(MAGPIE_URL))\n",
    "print(\"  Will use Twitcher URL:     [{}]\".format(TWITCHER_URL))\n",
    "print(\"  Will use THREDDS service:  [{}]\".format(THREDDS_SERVICE))\n",
    "\n",
    "\n",
    "def response_msg(message, response, is_json=True):\n",
    "    \"\"\"Append useful response details to provided message.\"\"\"\n",
    "    if is_json:\n",
    "        # magpie formatted error\n",
    "        _body = response.json()\n",
    "        _detail = _body.get(\"detail\", _body.get(\"message\", \"<unknown>\"))\n",
    "    else:\n",
    "        _body = response.text\n",
    "        # twitcher formatted error\n",
    "        if \"<ExceptionText>\" in _body:\n",
    "            _detail = _body.split(\"<ExceptionText>\")[-1].split(\"</ExceptionText>\")[0].strip()\n",
    "        # thredds formatted error\n",
    "        elif \"Error {\" in _body:\n",
    "            _detail = _body.split(\"message = \")[-1].split(\";\\n\")[0].strip()\n",
    "        else:\n",
    "            _detail = \"<stripped>\"\n",
    "    return \"{} Response replied with ({}) [{}]\".format(message, response.status_code, _detail)\n",
    "\n",
    "# test URLs are reachable\n",
    "resp = requests.get(MAGPIE_URL, verify=VERIFY_SSL, headers=HEADERS)\n",
    "if not resp.status_code == 200:\n",
    "    raise ValueError(response_msg(\"Could not reach MAGPIE_URL.\", resp))\n",
    "resp = requests.get(THREDDS_URL, verify=VERIFY_SSL)\n",
    "if not resp.status_code == 200:\n",
    "    raise ValueError(response_msg(\"Could not reach THREDDS_URL.\", resp))"
   ]
  },
  {
   "cell_type": "markdown",
   "metadata": {},
   "source": [
    "## Validate test admin user can have needed access to adjust permissions and that anonymous group is valid"
   ]
  },
  {
   "cell_type": "code",
   "execution_count": 2,
   "metadata": {
    "pycharm": {
     "name": "#%%\n"
    }
   },
   "outputs": [
    {
     "name": "stdout",
     "output_type": "stream",
     "text": [
      "Validate that user has needed admin-level access... OK\n"
     ]
    }
   ],
   "source": [
    "# NBVAL_IGNORE_OUTPUT\n",
    "\n",
    "print(\"Validate that user has needed admin-level access... \", end=\"\")\n",
    "\n",
    "def login_user(username, password):\n",
    "    _data = {\"user_name\": username, \"password\": password}\n",
    "    _path = MAGPIE_URL + \"/signin\"\n",
    "    _resp = requests.post(_path, json=_data, verify=VERIFY_SSL, headers=HEADERS)\n",
    "    if _resp.status_code != 200:\n",
    "        raise ValueError(response_msg(\"\\nCould not login with provided test admin credentials.\", _resp))\n",
    "    return _resp.cookies\n",
    "\n",
    "ADMIN_COOKIES = login_user(TEST_MAGPIE_ADMIN_USERNAME, TEST_MAGPIE_ADMIN_PASSWORD)\n",
    "\n",
    "# test admin-level access with route that is admin only\n",
    "path = MAGPIE_URL + \"/users\"\n",
    "resp = requests.get(path, verify=VERIFY_SSL, cookies=ADMIN_COOKIES, headers=HEADERS)\n",
    "if resp.status_code != 200:\n",
    "    raise ValueError(response_msg(\"\\nProvided user credentials doesn't have administrative permissions.\", resp))\n",
    "\n",
    "path = \"{}/groups/{}\".format(MAGPIE_URL, MAGPIE_ANONYMOUS_GROUP)\n",
    "resp = requests.get(path, verify=VERIFY_SSL, cookies=ADMIN_COOKIES, headers=HEADERS)\n",
    "if resp.status_code != 200:\n",
    "    msg = \"\\nCould not validate Magpie anonymous group using name: [{}]\".format(MAGPIE_ANONYMOUS_GROUP)\n",
    "    raise ValueError(response_msg(msg, resp))\n",
    "\n",
    "print(\"OK\")"
   ]
  },
  {
   "cell_type": "markdown",
   "metadata": {
    "pycharm": {
     "name": "#%% md\n"
    }
   },
   "source": [
    "## Define functions to clean test user and group after tests\n",
    "\n",
    "Since we know that admin is correctly configured up to this point,\n",
    "setup cleanup operations to remove test data after test execution."
   ]
  },
  {
   "cell_type": "code",
   "execution_count": 3,
   "metadata": {
    "collapsed": false,
    "jupyter": {
     "outputs_hidden": false
    },
    "pycharm": {
     "name": "#%%\n"
    }
   },
   "outputs": [],
   "source": [
    "# NBVAL_IGNORE_OUTPUT\n",
    "\n",
    "TEST_GROUP_NAME = \"test-auth-{!s}\".format(uuid.uuid4())\n",
    "TEST_USER_NAME = \"test-user-{!s}\".format(uuid.uuid4())\n",
    "# password must not be displayed to keep minimal obfuscation\n",
    "#   since test user name will be logged, and eventually receive slightly more access than 'anonymous',\n",
    "#   don't give a chance for anyone to guess the credentials\n",
    "TEST_USER_PWD = str(uuid.uuid4())\n",
    "CLEANUP_CALLED = False\n",
    "\n",
    "def cleanup_test_data(skip_fail=True):\n",
    "    \"\"\"Cleanup test elements created during the test.\n",
    "\n",
    "    Only raise at the complete end to attempt removal of as much element as possible in case of failures.\n",
    "    \"\"\"\n",
    "    global CLEANUP_CALLED\n",
    "    CLEANUP_CALLED = True\n",
    "    failed = False\n",
    "    for item_type, item_name, item_value in [\n",
    "        (\"users\", \"TEST_USER_NAME\", TEST_USER_NAME),\n",
    "        (\"groups\", \"TEST_GROUP_NAME\", TEST_GROUP_NAME),\n",
    "    ]:\n",
    "        try:\n",
    "            _path = \"{}/{}/{}\".format(MAGPIE_URL, item_type, item_value)\n",
    "            _resp = requests.delete(_path, verify=VERIFY_SSL, cookies=ADMIN_COOKIES, headers=HEADERS)\n",
    "            _head = \"Cleanup of {} [{}]:\".format(item_name, item_value)\n",
    "            if _resp.status_code == 200:\n",
    "                print(_head, \"OK\")\n",
    "            elif _resp.status_code == 404:\n",
    "                print(_head, \"WARNING - does not exist (maybe it failed to be created in the first place?)\")\n",
    "                failed = True  # most definitely the test is already failing at this point anyway\n",
    "            else:\n",
    "                print(_head, \"ERROR - could not be removed\")\n",
    "                failed = True\n",
    "        except Exception as exc:\n",
    "            print(\"Cleanup raised: [{}]\".format(exc))\n",
    "            failed = True\n",
    "    if not skip_fail and failed:\n",
    "        raise ValueError(\"Could not cleanup all test data.\")\n"
   ]
  },
  {
   "cell_type": "markdown",
   "metadata": {
    "pycharm": {
     "name": "#%% md\n"
    }
   },
   "source": [
    "## Create a test group and test user that will not have admin access"
   ]
  },
  {
   "cell_type": "code",
   "execution_count": 4,
   "metadata": {
    "pycharm": {
     "name": "#%%\n"
    }
   },
   "outputs": [
    {
     "name": "stdout",
     "output_type": "stream",
     "text": [
      "Create test group and test user... \n",
      "  Will use TEST_USER_NAME:  [test-user-5d73303e-8a3a-48e9-94bb-197bcf51680e]\n",
      "  Will use TEST_GROUP_NAME: [test-auth-1aa9f459-f38a-4478-85b1-551634239a65]\n",
      "Creation: OK\n"
     ]
    }
   ],
   "source": [
    "# NBVAL_IGNORE_OUTPUT\n",
    "\n",
    "print(\"Create test group and test user... \")\n",
    "print(\"  Will use TEST_USER_NAME:  [{}]\".format(TEST_USER_NAME))\n",
    "print(\"  Will use TEST_GROUP_NAME: [{}]\".format(TEST_GROUP_NAME))\n",
    "\n",
    "data = {\"group_name\": TEST_GROUP_NAME}\n",
    "path = MAGPIE_URL + \"/groups\"\n",
    "resp = requests.post(path, json=data, verify=VERIFY_SSL, cookies=ADMIN_COOKIES, headers=HEADERS)\n",
    "if resp.status_code != 201:\n",
    "    cleanup_test_data()\n",
    "    raise ValueError(response_msg(\"\\nCould not create test group [{}]\".format(TEST_GROUP_NAME), resp))\n",
    "\n",
    "data = {\"user_name\": TEST_USER_NAME, \"password\": TEST_USER_PWD,\n",
    "        \"email\": \"{}@mail.com\".format(TEST_USER_NAME), \"group_name\": TEST_GROUP_NAME}\n",
    "path = MAGPIE_URL + \"/users\"\n",
    "resp = requests.post(path, json=data, verify=VERIFY_SSL, cookies=ADMIN_COOKIES, headers=HEADERS)\n",
    "if resp.status_code != 201:\n",
    "    cleanup_test_data()\n",
    "    raise ValueError(response_msg(\"\\nCould not create test user [{}]\".format(TEST_USER_NAME), resp))\n",
    "\n",
    "print(\"Creation: OK\")"
   ]
  },
  {
   "cell_type": "markdown",
   "metadata": {
    "pycharm": {
     "name": "#%% md\n"
    }
   },
   "source": [
    "## Create specific test resources under THREDDS service\n",
    "\n",
    "Expected data structure as per:\n",
    "    [https://github.com/bird-house/birdhouse-deploy/blob/master/birdhouse/scripts/bootstrap-testdata](\n",
    "    https://github.com/bird-house/birdhouse-deploy/blob/master/birdhouse/scripts/bootstrap-testdata\n",
    "    )"
   ]
  },
  {
   "cell_type": "code",
   "execution_count": 5,
   "metadata": {
    "pycharm": {
     "name": "#%%\n"
    }
   },
   "outputs": [
    {
     "name": "stdout",
     "output_type": "stream",
     "text": [
      "Create test resources under THREDDS service... OK\n"
     ]
    }
   ],
   "source": [
    "# NBVAL_IGNORE_OUTPUT\n",
    "\n",
    "print(\"Create test resources under THREDDS service... \", end=\"\")\n",
    "\n",
    "path = MAGPIE_URL + \"/services/{}\".format(THREDDS_SERVICE)\n",
    "resp = requests.get(path, verify=VERIFY_SSL, cookies=ADMIN_COOKIES, headers=HEADERS)\n",
    "if resp.status_code != 200:\n",
    "    cleanup_test_data()\n",
    "    raise ValueError(response_msg(\"\\nCould not fetch THREDDS service details [{}].\".format(THREDDS_SERVICE), resp))\n",
    "thredds_res_id = resp.json()[\"service\"][\"resource_id\"]\n",
    "\n",
    "def create_or_get_resource(resource_name, resource_type, parent_id):\n",
    "    _path = MAGPIE_URL + \"/resources\"\n",
    "    _data = {\"parent_id\": parent_id, \"resource_type\": resource_type, \"resource_name\": resource_name}\n",
    "    _resp = requests.post(_path, json=_data, verify=VERIFY_SSL, cookies=ADMIN_COOKIES, headers=HEADERS)\n",
    "    _msg = \"[name: {}, type: {}, parent: {}].\".format(resource_name, resource_type, parent_id)\n",
    "    if _resp.status_code == 409:\n",
    "        _path = \"{}/{}\".format(_path, parent_id)\n",
    "        _resp = requests.get(_path, verify=VERIFY_SSL, cookies=ADMIN_COOKIES, headers=HEADERS)\n",
    "        if _resp.status_code != 200:\n",
    "            cleanup_test_data()\n",
    "            raise ValueError(response_msg(\"Could not retrieve resource expected to exist {}.\".format(_msg), _resp))\n",
    "        _resource = _resp.json()[\"resource\"]\n",
    "        _children = _resource[\"children\"]\n",
    "        for _, _child_info in _children.items():\n",
    "            if _child_info[\"resource_name\"] == resource_name:\n",
    "                return _child_info\n",
    "    elif _resp.status_code != 201:\n",
    "        cleanup_test_data()\n",
    "        raise ValueError(response_msg(\"\\nCould not create resource {}.\".format(_msg), _resp))\n",
    "    else:\n",
    "        return _resp.json()[\"resource\"]\n",
    "    cleanup_test_data()\n",
    "    raise ValueError(response_msg(\"\\nCould not create or retrieve resource {}.\".format(_msg), _resp))\n",
    "\n",
    "birdhouse_res = create_or_get_resource(\"birdhouse\", \"directory\", thredds_res_id)\n",
    "testdata_res = create_or_get_resource(\"testdata\", \"directory\", birdhouse_res[\"resource_id\"])\n",
    "secure_res = create_or_get_resource(\"secure\", \"directory\", testdata_res[\"resource_id\"])\n",
    "taskmax_name = \"tasmax_Amon_MPI-ESM-MR_rcp45_r2i1p1_200601-200612.nc\"\n",
    "taskmax_res = create_or_get_resource(taskmax_name, \"file\", secure_res[\"resource_id\"])\n",
    "\n",
    "birdhouse_path = birdhouse_res[\"resource_name\"]\n",
    "birdhouse_catalog = \"catalog/{}/catalog.html\".format(birdhouse_path)\n",
    "testdata_path = \"{}/{}\".format(birdhouse_path, testdata_res[\"resource_name\"])\n",
    "testdata_catalog = \"catalog/{}/catalog.html\".format(testdata_path)\n",
    "secure_path = \"{}/{}\".format(testdata_path, secure_res[\"resource_name\"])\n",
    "secure_catalog = \"catalog/{}/catalog.html\".format(secure_path)\n",
    "taskmax_path = \"{}/{}\".format(secure_path, taskmax_res[\"resource_name\"])\n",
    "taskmax_file = \"fileServer/{}\".format(taskmax_path)\n",
    "taskmax_ncml = \"ncml/{}\".format(taskmax_path)\n",
    "taskmax_dodsC = \"dodsC/{}.html\".format(taskmax_path)\n",
    "\n",
    "print(\"OK\")"
   ]
  },
  {
   "cell_type": "markdown",
   "metadata": {
    "pycharm": {
     "name": "#%% md\n"
    }
   },
   "source": [
    "## Create specific permissions for THREDDS resources to block public access to 'secure' directory"
   ]
  },
  {
   "cell_type": "code",
   "execution_count": 6,
   "metadata": {
    "pycharm": {
     "name": "#%%\n"
    }
   },
   "outputs": [
    {
     "name": "stdout",
     "output_type": "stream",
     "text": [
      "Create permissions on test resources... OK\n"
     ]
    }
   ],
   "source": [
    "# NBVAL_IGNORE_OUTPUT\n",
    "\n",
    "print(\"Create permissions on test resources... \", end=\"\")\n",
    "\n",
    "def set_permission(permission, resource, target_type, target_name):\n",
    "    _res_id = resource[\"resource_id\"]\n",
    "    _path = \"{}/{}/{}/resources/{}/permissions\".format(MAGPIE_URL, target_type, target_name, _res_id)\n",
    "    _data = {\"permission\": permission}\n",
    "    _resp = requests.put(_path, json=_data, verify=VERIFY_SSL, cookies=ADMIN_COOKIES, headers=HEADERS)\n",
    "    if _resp.status_code not in [200, 201]:\n",
    "        _msg = \"\\nCleanup called before? {} (if called, following error could be expected)\".format(CLEANUP_CALLED) + \\\n",
    "               \"\\nCould not set permission [{}] for [{}, {}] over resource [{}, {}]\" \\\n",
    "               .format(permission, target_type, target_name, resource[\"resource_name\"], _res_id)\n",
    "        cleanup_test_data()\n",
    "        raise ValueError(response_msg(_msg, _resp))\n",
    "\n",
    "\n",
    "set_permission(\"browse-allow-recursive\", birdhouse_res, \"groups\", MAGPIE_ANONYMOUS_GROUP)\n",
    "set_permission(\"read-allow-recursive\", birdhouse_res, \"groups\", MAGPIE_ANONYMOUS_GROUP)\n",
    "set_permission(\"browse-deny-recursive\", secure_res, \"groups\", MAGPIE_ANONYMOUS_GROUP)\n",
    "set_permission(\"read-deny-recursive\", secure_res, \"groups\", MAGPIE_ANONYMOUS_GROUP)\n",
    "\n",
    "print(\"OK\")"
   ]
  },
  {
   "cell_type": "markdown",
   "metadata": {},
   "source": [
    "## Verify allowed/blocked user access to secured resources"
   ]
  },
  {
   "cell_type": "code",
   "execution_count": 7,
   "metadata": {
    "pycharm": {
     "name": "#%%\n"
    }
   },
   "outputs": [
    {
     "name": "stdout",
     "output_type": "stream",
     "text": [
      "Testing allowed/blocked access to secured THREDDS resources...\n",
      "Detail:\n",
      "  Resource: [https://host-140-36.rdext.crim.ca/twitcher/ows/proxy/thredds/catalog/birdhouse/catalog.html]\n",
      "  User:     [<TEST_MAGPIE_ADMIN_USERNAME>]\n",
      "  Access:   [Allowed]\n",
      "Detail:\n",
      "  Resource: [https://host-140-36.rdext.crim.ca/twitcher/ows/proxy/thredds/catalog/birdhouse/testdata/catalog.html]\n",
      "  User:     [<TEST_MAGPIE_ADMIN_USERNAME>]\n",
      "  Access:   [Allowed]\n",
      "Detail:\n",
      "  Resource: [https://host-140-36.rdext.crim.ca/twitcher/ows/proxy/thredds/catalog/birdhouse/testdata/secure/catalog.html]\n",
      "  User:     [<TEST_MAGPIE_ADMIN_USERNAME>]\n",
      "  Access:   [Allowed]\n",
      "Detail:\n",
      "  Resource: [https://host-140-36.rdext.crim.ca/twitcher/ows/proxy/thredds/fileServer/birdhouse/testdata/secure/tasmax_Amon_MPI-ESM-MR_rcp45_r2i1p1_200601-200612.nc]\n",
      "  User:     [<TEST_MAGPIE_ADMIN_USERNAME>]\n",
      "  Access:   [Allowed]\n",
      "Detail:\n",
      "  Resource: [https://host-140-36.rdext.crim.ca/twitcher/ows/proxy/thredds/ncml/birdhouse/testdata/secure/tasmax_Amon_MPI-ESM-MR_rcp45_r2i1p1_200601-200612.nc]\n",
      "  User:     [<TEST_MAGPIE_ADMIN_USERNAME>]\n",
      "  Access:   [Allowed]\n",
      "Detail:\n",
      "  Resource: [https://host-140-36.rdext.crim.ca/twitcher/ows/proxy/thredds/dodsC/birdhouse/testdata/secure/tasmax_Amon_MPI-ESM-MR_rcp45_r2i1p1_200601-200612.nc.html]\n",
      "  User:     [<TEST_MAGPIE_ADMIN_USERNAME>]\n",
      "  Access:   [Allowed]\n",
      "Detail:\n",
      "  Resource: [https://host-140-36.rdext.crim.ca/twitcher/ows/proxy/thredds/catalog/birdhouse/catalog.html]\n",
      "  User:     [test-user-5d73303e-8a3a-48e9-94bb-197bcf51680e]\n",
      "  Access:   [Allowed]\n",
      "Detail:\n",
      "  Resource: [https://host-140-36.rdext.crim.ca/twitcher/ows/proxy/thredds/catalog/birdhouse/testdata/catalog.html]\n",
      "  User:     [test-user-5d73303e-8a3a-48e9-94bb-197bcf51680e]\n",
      "  Access:   [Allowed]\n",
      "Detail:\n",
      "  Resource: [https://host-140-36.rdext.crim.ca/twitcher/ows/proxy/thredds/catalog/birdhouse/testdata/secure/catalog.html]\n",
      "  User:     [test-user-5d73303e-8a3a-48e9-94bb-197bcf51680e]\n",
      "  Access:   [Denied]\n",
      "Detail:\n",
      "  Resource: [https://host-140-36.rdext.crim.ca/twitcher/ows/proxy/thredds/fileServer/birdhouse/testdata/secure/tasmax_Amon_MPI-ESM-MR_rcp45_r2i1p1_200601-200612.nc]\n",
      "  User:     [test-user-5d73303e-8a3a-48e9-94bb-197bcf51680e]\n",
      "  Access:   [Denied]\n",
      "Detail:\n",
      "  Resource: [https://host-140-36.rdext.crim.ca/twitcher/ows/proxy/thredds/ncml/birdhouse/testdata/secure/tasmax_Amon_MPI-ESM-MR_rcp45_r2i1p1_200601-200612.nc]\n",
      "  User:     [test-user-5d73303e-8a3a-48e9-94bb-197bcf51680e]\n",
      "  Access:   [Denied]\n",
      "Detail:\n",
      "  Resource: [https://host-140-36.rdext.crim.ca/twitcher/ows/proxy/thredds/dodsC/birdhouse/testdata/secure/tasmax_Amon_MPI-ESM-MR_rcp45_r2i1p1_200601-200612.nc.html]\n",
      "  User:     [test-user-5d73303e-8a3a-48e9-94bb-197bcf51680e]\n",
      "  Access:   [Denied]\n",
      "Detail:\n",
      "  Resource: [https://host-140-36.rdext.crim.ca/twitcher/ows/proxy/thredds/catalog/birdhouse/catalog.html]\n",
      "  User:     [<ANONYMOUS_USER>]\n",
      "  Access:   [Allowed]\n",
      "Detail:\n",
      "  Resource: [https://host-140-36.rdext.crim.ca/twitcher/ows/proxy/thredds/catalog/birdhouse/testdata/catalog.html]\n",
      "  User:     [<ANONYMOUS_USER>]\n",
      "  Access:   [Allowed]\n",
      "Detail:\n",
      "  Resource: [https://host-140-36.rdext.crim.ca/twitcher/ows/proxy/thredds/catalog/birdhouse/testdata/secure/catalog.html]\n",
      "  User:     [<ANONYMOUS_USER>]\n",
      "  Access:   [Denied]\n",
      "Detail:\n",
      "  Resource: [https://host-140-36.rdext.crim.ca/twitcher/ows/proxy/thredds/fileServer/birdhouse/testdata/secure/tasmax_Amon_MPI-ESM-MR_rcp45_r2i1p1_200601-200612.nc]\n",
      "  User:     [<ANONYMOUS_USER>]\n",
      "  Access:   [Denied]\n",
      "Detail:\n",
      "  Resource: [https://host-140-36.rdext.crim.ca/twitcher/ows/proxy/thredds/ncml/birdhouse/testdata/secure/tasmax_Amon_MPI-ESM-MR_rcp45_r2i1p1_200601-200612.nc]\n",
      "  User:     [<ANONYMOUS_USER>]\n",
      "  Access:   [Denied]\n",
      "Detail:\n",
      "  Resource: [https://host-140-36.rdext.crim.ca/twitcher/ows/proxy/thredds/dodsC/birdhouse/testdata/secure/tasmax_Amon_MPI-ESM-MR_rcp45_r2i1p1_200601-200612.nc.html]\n",
      "  User:     [<ANONYMOUS_USER>]\n",
      "  Access:   [Denied]\n",
      "Expected secured access to all resources: OK\n"
     ]
    }
   ],
   "source": [
    "# NBVAL_IGNORE_OUTPUT\n",
    "\n",
    "print(\"Testing allowed/blocked access to secured THREDDS resources...\")\n",
    "\n",
    "TEST_USER_COOKIES = login_user(TEST_USER_NAME, TEST_USER_PWD)\n",
    "ANONYMOUS_COOKIES = {}\n",
    "\n",
    "\n",
    "def has_access(resource_path, user_cookies, user_name):\n",
    "    _path = \"{}/{}\".format(THREDDS_URL, resource_path)\n",
    "    _resp = requests.get(_path, verify=VERIFY_SSL, cookies=user_cookies)\n",
    "    if _resp.status_code in [200, 401, 403]:\n",
    "        is_allowed = _resp.status_code == 200\n",
    "        str_allowed = \"Allowed\" if is_allowed else \"Denied\"\n",
    "        print(\"Detail:\\n\"\n",
    "              \"  Resource: [{}]\\n\"\n",
    "              \"  User:     [{}]\\n\"\n",
    "              \"  Access:   [{}]\".format(_path, user_name, str_allowed))\n",
    "        return is_allowed\n",
    "    cleanup_test_data()\n",
    "    _msg = \"Unexpected status code during access to resource [{}]\".format(_path)\n",
    "    raise ValueError(response_msg(_msg, _resp, is_json=False))\n",
    "\n",
    "# admin always has full access regardless of permissions\n",
    "# avoid potential leak of critical admin credentials here by using a fill-in value\n",
    "assert has_access(birdhouse_catalog, ADMIN_COOKIES, \"<TEST_MAGPIE_ADMIN_USERNAME>\")\n",
    "assert has_access(testdata_catalog, ADMIN_COOKIES, \"<TEST_MAGPIE_ADMIN_USERNAME>\")\n",
    "assert has_access(secure_catalog, ADMIN_COOKIES, \"<TEST_MAGPIE_ADMIN_USERNAME>\")\n",
    "assert has_access(taskmax_file, ADMIN_COOKIES, \"<TEST_MAGPIE_ADMIN_USERNAME>\")\n",
    "assert has_access(taskmax_ncml, ADMIN_COOKIES, \"<TEST_MAGPIE_ADMIN_USERNAME>\")\n",
    "assert has_access(taskmax_dodsC, ADMIN_COOKIES, \"<TEST_MAGPIE_ADMIN_USERNAME>\")\n",
    "\n",
    "# test user has different access depending on permissions applied\n",
    "# for debugging and cleanup, print its generated name, but not the password\n",
    "assert has_access(birdhouse_catalog, TEST_USER_COOKIES, TEST_USER_NAME)\n",
    "assert has_access(testdata_catalog, TEST_USER_COOKIES, TEST_USER_NAME)\n",
    "assert not has_access(secure_catalog, TEST_USER_COOKIES, TEST_USER_NAME)\n",
    "assert not has_access(taskmax_file, TEST_USER_COOKIES, TEST_USER_NAME)\n",
    "assert not has_access(taskmax_ncml, TEST_USER_COOKIES, TEST_USER_NAME)\n",
    "assert not has_access(taskmax_dodsC, TEST_USER_COOKIES, TEST_USER_NAME)\n",
    "\n",
    "assert has_access(birdhouse_catalog, ANONYMOUS_COOKIES, \"<ANONYMOUS_USER>\")\n",
    "assert has_access(testdata_catalog, ANONYMOUS_COOKIES, \"<ANONYMOUS_USER>\")\n",
    "assert not has_access(secure_catalog, ANONYMOUS_COOKIES, \"<ANONYMOUS_USER>\")\n",
    "assert not has_access(taskmax_file, ANONYMOUS_COOKIES, \"<ANONYMOUS_USER>\")\n",
    "assert not has_access(taskmax_ncml, ANONYMOUS_COOKIES, \"<ANONYMOUS_USER>\")\n",
    "assert not has_access(taskmax_dodsC, ANONYMOUS_COOKIES, \"<ANONYMOUS_USER>\")\n",
    "\n",
    "print(\"Expected secured access to all resources: OK\")"
   ]
  },
  {
   "cell_type": "markdown",
   "metadata": {},
   "source": [
    "## Verify that directories become browsable after update of test user group access"
   ]
  },
  {
   "cell_type": "code",
   "execution_count": 8,
   "metadata": {
    "pycharm": {
     "name": "#%%\n"
    }
   },
   "outputs": [
    {
     "name": "stdout",
     "output_type": "stream",
     "text": [
      "Detail:\n",
      "  Resource: [https://host-140-36.rdext.crim.ca/twitcher/ows/proxy/thredds/catalog/birdhouse/catalog.html]\n",
      "  User:     [test-user-5d73303e-8a3a-48e9-94bb-197bcf51680e]\n",
      "  Access:   [Allowed]\n",
      "Detail:\n",
      "  Resource: [https://host-140-36.rdext.crim.ca/twitcher/ows/proxy/thredds/catalog/birdhouse/testdata/catalog.html]\n",
      "  User:     [test-user-5d73303e-8a3a-48e9-94bb-197bcf51680e]\n",
      "  Access:   [Allowed]\n",
      "Detail:\n",
      "  Resource: [https://host-140-36.rdext.crim.ca/twitcher/ows/proxy/thredds/catalog/birdhouse/testdata/secure/catalog.html]\n",
      "  User:     [test-user-5d73303e-8a3a-48e9-94bb-197bcf51680e]\n",
      "  Access:   [Allowed]\n",
      "Detail:\n",
      "  Resource: [https://host-140-36.rdext.crim.ca/twitcher/ows/proxy/thredds/ncml/birdhouse/testdata/secure/tasmax_Amon_MPI-ESM-MR_rcp45_r2i1p1_200601-200612.nc]\n",
      "  User:     [test-user-5d73303e-8a3a-48e9-94bb-197bcf51680e]\n",
      "  Access:   [Allowed]\n",
      "Detail:\n",
      "  Resource: [https://host-140-36.rdext.crim.ca/twitcher/ows/proxy/thredds/fileServer/birdhouse/testdata/secure/tasmax_Amon_MPI-ESM-MR_rcp45_r2i1p1_200601-200612.nc]\n",
      "  User:     [test-user-5d73303e-8a3a-48e9-94bb-197bcf51680e]\n",
      "  Access:   [Denied]\n",
      "Detail:\n",
      "  Resource: [https://host-140-36.rdext.crim.ca/twitcher/ows/proxy/thredds/dodsC/birdhouse/testdata/secure/tasmax_Amon_MPI-ESM-MR_rcp45_r2i1p1_200601-200612.nc.html]\n",
      "  User:     [test-user-5d73303e-8a3a-48e9-94bb-197bcf51680e]\n",
      "  Access:   [Denied]\n",
      "Detail:\n",
      "  Resource: [https://host-140-36.rdext.crim.ca/twitcher/ows/proxy/thredds/catalog/birdhouse/catalog.html]\n",
      "  User:     [<ANONYMOUS_USER>]\n",
      "  Access:   [Allowed]\n",
      "Detail:\n",
      "  Resource: [https://host-140-36.rdext.crim.ca/twitcher/ows/proxy/thredds/catalog/birdhouse/testdata/catalog.html]\n",
      "  User:     [<ANONYMOUS_USER>]\n",
      "  Access:   [Allowed]\n",
      "Detail:\n",
      "  Resource: [https://host-140-36.rdext.crim.ca/twitcher/ows/proxy/thredds/catalog/birdhouse/testdata/secure/catalog.html]\n",
      "  User:     [<ANONYMOUS_USER>]\n",
      "  Access:   [Denied]\n",
      "Detail:\n",
      "  Resource: [https://host-140-36.rdext.crim.ca/twitcher/ows/proxy/thredds/ncml/birdhouse/testdata/secure/tasmax_Amon_MPI-ESM-MR_rcp45_r2i1p1_200601-200612.nc]\n",
      "  User:     [<ANONYMOUS_USER>]\n",
      "  Access:   [Denied]\n",
      "Detail:\n",
      "  Resource: [https://host-140-36.rdext.crim.ca/twitcher/ows/proxy/thredds/fileServer/birdhouse/testdata/secure/tasmax_Amon_MPI-ESM-MR_rcp45_r2i1p1_200601-200612.nc]\n",
      "  User:     [<ANONYMOUS_USER>]\n",
      "  Access:   [Denied]\n",
      "Detail:\n",
      "  Resource: [https://host-140-36.rdext.crim.ca/twitcher/ows/proxy/thredds/dodsC/birdhouse/testdata/secure/tasmax_Amon_MPI-ESM-MR_rcp45_r2i1p1_200601-200612.nc.html]\n",
      "  User:     [<ANONYMOUS_USER>]\n",
      "  Access:   [Denied]\n",
      "Expected browse access to all resources: OK\n"
     ]
    }
   ],
   "source": [
    "# NBVAL_IGNORE_OUTPUT\n",
    "\n",
    "# Anonymous user will still not have access to resources,\n",
    "# but users that are member of the allowed test group will be allowed to browse (even if not admins).\n",
    "# Read (fetch of files) remains blocked for now.\n",
    "set_permission(\"browse-allow-recursive\", secure_res, \"groups\", TEST_GROUP_NAME)\n",
    "\n",
    "assert has_access(birdhouse_catalog, TEST_USER_COOKIES, TEST_USER_NAME)\n",
    "assert has_access(testdata_catalog, TEST_USER_COOKIES, TEST_USER_NAME)\n",
    "assert has_access(secure_catalog, TEST_USER_COOKIES, TEST_USER_NAME)     # becomes accessible\n",
    "assert has_access(taskmax_ncml, TEST_USER_COOKIES, TEST_USER_NAME)       # becomes accessible (ncml = browse)\n",
    "assert not has_access(taskmax_file, TEST_USER_COOKIES, TEST_USER_NAME)   # still blocked (fileServer = read)\n",
    "assert not has_access(taskmax_dodsC, TEST_USER_COOKIES, TEST_USER_NAME)  # still blocked (dodsC = read)\n",
    "\n",
    "# following remains the same as previous cell, but validate to make sure\n",
    "assert has_access(birdhouse_catalog, ANONYMOUS_COOKIES, \"<ANONYMOUS_USER>\")\n",
    "assert has_access(testdata_catalog, ANONYMOUS_COOKIES, \"<ANONYMOUS_USER>\")\n",
    "assert not has_access(secure_catalog, ANONYMOUS_COOKIES, \"<ANONYMOUS_USER>\")\n",
    "assert not has_access(taskmax_ncml, ANONYMOUS_COOKIES, \"<ANONYMOUS_USER>\")\n",
    "assert not has_access(taskmax_file, ANONYMOUS_COOKIES, \"<ANONYMOUS_USER>\")\n",
    "assert not has_access(taskmax_dodsC, ANONYMOUS_COOKIES, \"<ANONYMOUS_USER>\")\n",
    "\n",
    "print(\"Expected browse access to all resources: OK\")\n"
   ]
  },
  {
   "cell_type": "markdown",
   "metadata": {},
   "source": [
    "## Verify that directories become browsable after update of test user group access"
   ]
  },
  {
   "cell_type": "code",
   "execution_count": 9,
   "metadata": {
    "pycharm": {
     "name": "#%%\n"
    }
   },
   "outputs": [
    {
     "name": "stdout",
     "output_type": "stream",
     "text": [
      "Detail:\n",
      "  Resource: [https://host-140-36.rdext.crim.ca/twitcher/ows/proxy/thredds/catalog/birdhouse/catalog.html]\n",
      "  User:     [test-user-5d73303e-8a3a-48e9-94bb-197bcf51680e]\n",
      "  Access:   [Allowed]\n",
      "Detail:\n",
      "  Resource: [https://host-140-36.rdext.crim.ca/twitcher/ows/proxy/thredds/catalog/birdhouse/testdata/catalog.html]\n",
      "  User:     [test-user-5d73303e-8a3a-48e9-94bb-197bcf51680e]\n",
      "  Access:   [Allowed]\n",
      "Detail:\n",
      "  Resource: [https://host-140-36.rdext.crim.ca/twitcher/ows/proxy/thredds/catalog/birdhouse/testdata/secure/catalog.html]\n",
      "  User:     [test-user-5d73303e-8a3a-48e9-94bb-197bcf51680e]\n",
      "  Access:   [Allowed]\n",
      "Detail:\n",
      "  Resource: [https://host-140-36.rdext.crim.ca/twitcher/ows/proxy/thredds/ncml/birdhouse/testdata/secure/tasmax_Amon_MPI-ESM-MR_rcp45_r2i1p1_200601-200612.nc]\n",
      "  User:     [test-user-5d73303e-8a3a-48e9-94bb-197bcf51680e]\n",
      "  Access:   [Allowed]\n",
      "Detail:\n",
      "  Resource: [https://host-140-36.rdext.crim.ca/twitcher/ows/proxy/thredds/fileServer/birdhouse/testdata/secure/tasmax_Amon_MPI-ESM-MR_rcp45_r2i1p1_200601-200612.nc]\n",
      "  User:     [test-user-5d73303e-8a3a-48e9-94bb-197bcf51680e]\n",
      "  Access:   [Allowed]\n",
      "Detail:\n",
      "  Resource: [https://host-140-36.rdext.crim.ca/twitcher/ows/proxy/thredds/dodsC/birdhouse/testdata/secure/tasmax_Amon_MPI-ESM-MR_rcp45_r2i1p1_200601-200612.nc.html]\n",
      "  User:     [test-user-5d73303e-8a3a-48e9-94bb-197bcf51680e]\n",
      "  Access:   [Allowed]\n",
      "Detail:\n",
      "  Resource: [https://host-140-36.rdext.crim.ca/twitcher/ows/proxy/thredds/catalog/birdhouse/catalog.html]\n",
      "  User:     [<ANONYMOUS_USER>]\n",
      "  Access:   [Allowed]\n",
      "Detail:\n",
      "  Resource: [https://host-140-36.rdext.crim.ca/twitcher/ows/proxy/thredds/catalog/birdhouse/testdata/catalog.html]\n",
      "  User:     [<ANONYMOUS_USER>]\n",
      "  Access:   [Allowed]\n",
      "Detail:\n",
      "  Resource: [https://host-140-36.rdext.crim.ca/twitcher/ows/proxy/thredds/catalog/birdhouse/testdata/secure/catalog.html]\n",
      "  User:     [<ANONYMOUS_USER>]\n",
      "  Access:   [Denied]\n",
      "Detail:\n",
      "  Resource: [https://host-140-36.rdext.crim.ca/twitcher/ows/proxy/thredds/ncml/birdhouse/testdata/secure/tasmax_Amon_MPI-ESM-MR_rcp45_r2i1p1_200601-200612.nc]\n",
      "  User:     [<ANONYMOUS_USER>]\n",
      "  Access:   [Denied]\n",
      "Detail:\n",
      "  Resource: [https://host-140-36.rdext.crim.ca/twitcher/ows/proxy/thredds/fileServer/birdhouse/testdata/secure/tasmax_Amon_MPI-ESM-MR_rcp45_r2i1p1_200601-200612.nc]\n",
      "  User:     [<ANONYMOUS_USER>]\n",
      "  Access:   [Denied]\n",
      "Detail:\n",
      "  Resource: [https://host-140-36.rdext.crim.ca/twitcher/ows/proxy/thredds/dodsC/birdhouse/testdata/secure/tasmax_Amon_MPI-ESM-MR_rcp45_r2i1p1_200601-200612.nc.html]\n",
      "  User:     [<ANONYMOUS_USER>]\n",
      "  Access:   [Denied]\n",
      "Expected read access to all resources: OK\n"
     ]
    }
   ],
   "source": [
    "# NBVAL_IGNORE_OUTPUT\n",
    "\n",
    "# Additionally grant read access, test-user should now be allowed to fetch of files\n",
    "set_permission(\"read-allow-recursive\", secure_res, \"groups\", TEST_GROUP_NAME)\n",
    "\n",
    "# Combined permissions resolution grant full access to users member of test group\n",
    "assert has_access(birdhouse_catalog, TEST_USER_COOKIES, TEST_USER_NAME)\n",
    "assert has_access(testdata_catalog, TEST_USER_COOKIES, TEST_USER_NAME)\n",
    "assert has_access(secure_catalog, TEST_USER_COOKIES, TEST_USER_NAME)\n",
    "assert has_access(taskmax_ncml, TEST_USER_COOKIES, TEST_USER_NAME)\n",
    "assert has_access(taskmax_file, TEST_USER_COOKIES, TEST_USER_NAME)\n",
    "assert has_access(taskmax_dodsC, TEST_USER_COOKIES, TEST_USER_NAME)\n",
    "\n",
    "# following remains the same as previous cell, but validate to make sure\n",
    "assert has_access(birdhouse_catalog, ANONYMOUS_COOKIES, \"<ANONYMOUS_USER>\")\n",
    "assert has_access(testdata_catalog, ANONYMOUS_COOKIES, \"<ANONYMOUS_USER>\")\n",
    "assert not has_access(secure_catalog, ANONYMOUS_COOKIES, \"<ANONYMOUS_USER>\")\n",
    "assert not has_access(taskmax_ncml, ANONYMOUS_COOKIES, \"<ANONYMOUS_USER>\")\n",
    "assert not has_access(taskmax_file, ANONYMOUS_COOKIES, \"<ANONYMOUS_USER>\")\n",
    "assert not has_access(taskmax_dodsC, ANONYMOUS_COOKIES, \"<ANONYMOUS_USER>\")\n",
    "\n",
    "print(\"Expected read access to all resources: OK\")"
   ]
  },
  {
   "cell_type": "markdown",
   "metadata": {},
   "source": [
    "## Verify additional read access added specifically to test group"
   ]
  },
  {
   "cell_type": "code",
   "execution_count": 10,
   "metadata": {
    "collapsed": false,
    "jupyter": {
     "outputs_hidden": false
    },
    "pycharm": {
     "name": "#%%\n"
    }
   },
   "outputs": [
    {
     "name": "stdout",
     "output_type": "stream",
     "text": [
      "Detail:\n",
      "  Resource: [https://host-140-36.rdext.crim.ca/twitcher/ows/proxy/thredds/catalog/birdhouse/catalog.html]\n",
      "  User:     [test-user-5d73303e-8a3a-48e9-94bb-197bcf51680e]\n",
      "  Access:   [Allowed]\n",
      "Detail:\n",
      "  Resource: [https://host-140-36.rdext.crim.ca/twitcher/ows/proxy/thredds/catalog/birdhouse/testdata/catalog.html]\n",
      "  User:     [test-user-5d73303e-8a3a-48e9-94bb-197bcf51680e]\n",
      "  Access:   [Allowed]\n",
      "Detail:\n",
      "  Resource: [https://host-140-36.rdext.crim.ca/twitcher/ows/proxy/thredds/catalog/birdhouse/testdata/secure/catalog.html]\n",
      "  User:     [test-user-5d73303e-8a3a-48e9-94bb-197bcf51680e]\n",
      "  Access:   [Allowed]\n",
      "Detail:\n",
      "  Resource: [https://host-140-36.rdext.crim.ca/twitcher/ows/proxy/thredds/ncml/birdhouse/testdata/secure/tasmax_Amon_MPI-ESM-MR_rcp45_r2i1p1_200601-200612.nc]\n",
      "  User:     [test-user-5d73303e-8a3a-48e9-94bb-197bcf51680e]\n",
      "  Access:   [Allowed]\n",
      "Detail:\n",
      "  Resource: [https://host-140-36.rdext.crim.ca/twitcher/ows/proxy/thredds/fileServer/birdhouse/testdata/secure/tasmax_Amon_MPI-ESM-MR_rcp45_r2i1p1_200601-200612.nc]\n",
      "  User:     [test-user-5d73303e-8a3a-48e9-94bb-197bcf51680e]\n",
      "  Access:   [Allowed]\n",
      "Detail:\n",
      "  Resource: [https://host-140-36.rdext.crim.ca/twitcher/ows/proxy/thredds/dodsC/birdhouse/testdata/secure/tasmax_Amon_MPI-ESM-MR_rcp45_r2i1p1_200601-200612.nc.html]\n",
      "  User:     [test-user-5d73303e-8a3a-48e9-94bb-197bcf51680e]\n",
      "  Access:   [Allowed]\n",
      "Detail:\n",
      "  Resource: [https://host-140-36.rdext.crim.ca/twitcher/ows/proxy/thredds/catalog/birdhouse/catalog.html]\n",
      "  User:     [<ANONYMOUS_USER>]\n",
      "  Access:   [Allowed]\n",
      "Detail:\n",
      "  Resource: [https://host-140-36.rdext.crim.ca/twitcher/ows/proxy/thredds/catalog/birdhouse/testdata/catalog.html]\n",
      "  User:     [<ANONYMOUS_USER>]\n",
      "  Access:   [Allowed]\n",
      "Detail:\n",
      "  Resource: [https://host-140-36.rdext.crim.ca/twitcher/ows/proxy/thredds/catalog/birdhouse/testdata/secure/catalog.html]\n",
      "  User:     [<ANONYMOUS_USER>]\n",
      "  Access:   [Denied]\n",
      "Detail:\n",
      "  Resource: [https://host-140-36.rdext.crim.ca/twitcher/ows/proxy/thredds/ncml/birdhouse/testdata/secure/tasmax_Amon_MPI-ESM-MR_rcp45_r2i1p1_200601-200612.nc]\n",
      "  User:     [<ANONYMOUS_USER>]\n",
      "  Access:   [Denied]\n",
      "Detail:\n",
      "  Resource: [https://host-140-36.rdext.crim.ca/twitcher/ows/proxy/thredds/fileServer/birdhouse/testdata/secure/tasmax_Amon_MPI-ESM-MR_rcp45_r2i1p1_200601-200612.nc]\n",
      "  User:     [<ANONYMOUS_USER>]\n",
      "  Access:   [Denied]\n",
      "Detail:\n",
      "  Resource: [https://host-140-36.rdext.crim.ca/twitcher/ows/proxy/thredds/dodsC/birdhouse/testdata/secure/tasmax_Amon_MPI-ESM-MR_rcp45_r2i1p1_200601-200612.nc.html]\n",
      "  User:     [<ANONYMOUS_USER>]\n",
      "  Access:   [Denied]\n",
      "Expected read access to all resources: OK\n"
     ]
    }
   ],
   "source": [
    "# NBVAL_IGNORE_OUTPUT\n",
    "\n",
    "# Additionally grant read access, test-user should now be allowed to fetch of files\n",
    "set_permission(\"read-allow-recursive\", secure_res, \"groups\", TEST_GROUP_NAME)\n",
    "\n",
    "# Combined permissions resolution grant full access to users member of test group\n",
    "assert has_access(birdhouse_catalog, TEST_USER_COOKIES, TEST_USER_NAME)\n",
    "assert has_access(testdata_catalog, TEST_USER_COOKIES, TEST_USER_NAME)\n",
    "assert has_access(secure_catalog, TEST_USER_COOKIES, TEST_USER_NAME)\n",
    "assert has_access(taskmax_ncml, TEST_USER_COOKIES, TEST_USER_NAME)\n",
    "assert has_access(taskmax_file, TEST_USER_COOKIES, TEST_USER_NAME)\n",
    "assert has_access(taskmax_dodsC, TEST_USER_COOKIES, TEST_USER_NAME)\n",
    "\n",
    "# following remains the same as previous cell, but validate to make sure\n",
    "assert has_access(birdhouse_catalog, ANONYMOUS_COOKIES, \"<ANONYMOUS_USER>\")\n",
    "assert has_access(testdata_catalog, ANONYMOUS_COOKIES, \"<ANONYMOUS_USER>\")\n",
    "assert not has_access(secure_catalog, ANONYMOUS_COOKIES, \"<ANONYMOUS_USER>\")\n",
    "assert not has_access(taskmax_ncml, ANONYMOUS_COOKIES, \"<ANONYMOUS_USER>\")\n",
    "assert not has_access(taskmax_file, ANONYMOUS_COOKIES, \"<ANONYMOUS_USER>\")\n",
    "assert not has_access(taskmax_dodsC, ANONYMOUS_COOKIES, \"<ANONYMOUS_USER>\")\n",
    "\n",
    "print(\"Expected read access to all resources: OK\")\n"
   ]
  },
  {
   "cell_type": "code",
   "execution_count": 11,
   "metadata": {},
   "outputs": [
    {
     "name": "stdout",
     "output_type": "stream",
     "text": [
      "Detail:\n",
      "  Resource: [https://host-140-36.rdext.crim.ca/twitcher/ows/proxy/thredds/catalog/birdhouse/catalog.html]\n",
      "  User:     [test-user-5d73303e-8a3a-48e9-94bb-197bcf51680e]\n",
      "  Access:   [Allowed]\n",
      "Detail:\n",
      "  Resource: [https://host-140-36.rdext.crim.ca/twitcher/ows/proxy/thredds/catalog/birdhouse/testdata/catalog.html]\n",
      "  User:     [test-user-5d73303e-8a3a-48e9-94bb-197bcf51680e]\n",
      "  Access:   [Allowed]\n",
      "Detail:\n",
      "  Resource: [https://host-140-36.rdext.crim.ca/twitcher/ows/proxy/thredds/catalog/birdhouse/testdata/secure/catalog.html]\n",
      "  User:     [test-user-5d73303e-8a3a-48e9-94bb-197bcf51680e]\n",
      "  Access:   [Allowed]\n",
      "Detail:\n",
      "  Resource: [https://host-140-36.rdext.crim.ca/twitcher/ows/proxy/thredds/ncml/birdhouse/testdata/secure/tasmax_Amon_MPI-ESM-MR_rcp45_r2i1p1_200601-200612.nc]\n",
      "  User:     [test-user-5d73303e-8a3a-48e9-94bb-197bcf51680e]\n",
      "  Access:   [Allowed]\n",
      "Detail:\n",
      "  Resource: [https://host-140-36.rdext.crim.ca/twitcher/ows/proxy/thredds/fileServer/birdhouse/testdata/secure/tasmax_Amon_MPI-ESM-MR_rcp45_r2i1p1_200601-200612.nc]\n",
      "  User:     [test-user-5d73303e-8a3a-48e9-94bb-197bcf51680e]\n",
      "  Access:   [Allowed]\n",
      "Detail:\n",
      "  Resource: [https://host-140-36.rdext.crim.ca/twitcher/ows/proxy/thredds/dodsC/birdhouse/testdata/secure/tasmax_Amon_MPI-ESM-MR_rcp45_r2i1p1_200601-200612.nc.html]\n",
      "  User:     [test-user-5d73303e-8a3a-48e9-94bb-197bcf51680e]\n",
      "  Access:   [Allowed]\n",
      "Detail:\n",
      "  Resource: [https://host-140-36.rdext.crim.ca/twitcher/ows/proxy/thredds/catalog/birdhouse/catalog.html]\n",
      "  User:     [<ANONYMOUS_USER>]\n",
      "  Access:   [Allowed]\n",
      "Detail:\n",
      "  Resource: [https://host-140-36.rdext.crim.ca/twitcher/ows/proxy/thredds/catalog/birdhouse/testdata/catalog.html]\n",
      "  User:     [<ANONYMOUS_USER>]\n",
      "  Access:   [Allowed]\n",
      "Detail:\n",
      "  Resource: [https://host-140-36.rdext.crim.ca/twitcher/ows/proxy/thredds/catalog/birdhouse/testdata/secure/catalog.html]\n",
      "  User:     [<ANONYMOUS_USER>]\n",
      "  Access:   [Denied]\n",
      "Detail:\n",
      "  Resource: [https://host-140-36.rdext.crim.ca/twitcher/ows/proxy/thredds/ncml/birdhouse/testdata/secure/tasmax_Amon_MPI-ESM-MR_rcp45_r2i1p1_200601-200612.nc]\n",
      "  User:     [<ANONYMOUS_USER>]\n",
      "  Access:   [Denied]\n",
      "Detail:\n",
      "  Resource: [https://host-140-36.rdext.crim.ca/twitcher/ows/proxy/thredds/fileServer/birdhouse/testdata/secure/tasmax_Amon_MPI-ESM-MR_rcp45_r2i1p1_200601-200612.nc]\n",
      "  User:     [<ANONYMOUS_USER>]\n",
      "  Access:   [Denied]\n",
      "Detail:\n",
      "  Resource: [https://host-140-36.rdext.crim.ca/twitcher/ows/proxy/thredds/dodsC/birdhouse/testdata/secure/tasmax_Amon_MPI-ESM-MR_rcp45_r2i1p1_200601-200612.nc.html]\n",
      "  User:     [<ANONYMOUS_USER>]\n",
      "  Access:   [Denied]\n",
      "Expected read access to all resources: OK\n"
     ]
    }
   ],
   "source": [
    "# NBVAL_IGNORE_OUTPUT\n",
    "\n",
    "# Additionally grant read access, test-user should now be allowed to fetch of files\n",
    "set_permission(\"read-allow-recursive\", secure_res, \"groups\", TEST_GROUP_NAME)\n",
    "\n",
    "# Combined permissions resolution grant full access to users member of test group\n",
    "assert has_access(birdhouse_catalog, TEST_USER_COOKIES, TEST_USER_NAME)\n",
    "assert has_access(testdata_catalog, TEST_USER_COOKIES, TEST_USER_NAME)\n",
    "assert has_access(secure_catalog, TEST_USER_COOKIES, TEST_USER_NAME)\n",
    "assert has_access(taskmax_ncml, TEST_USER_COOKIES, TEST_USER_NAME)\n",
    "assert has_access(taskmax_file, TEST_USER_COOKIES, TEST_USER_NAME)\n",
    "assert has_access(taskmax_dodsC, TEST_USER_COOKIES, TEST_USER_NAME)\n",
    "\n",
    "# following remains the same as previous cell, but validate to make sure\n",
    "assert has_access(birdhouse_catalog, ANONYMOUS_COOKIES, \"<ANONYMOUS_USER>\")\n",
    "assert has_access(testdata_catalog, ANONYMOUS_COOKIES, \"<ANONYMOUS_USER>\")\n",
    "assert not has_access(secure_catalog, ANONYMOUS_COOKIES, \"<ANONYMOUS_USER>\")\n",
    "assert not has_access(taskmax_ncml, ANONYMOUS_COOKIES, \"<ANONYMOUS_USER>\")\n",
    "assert not has_access(taskmax_file, ANONYMOUS_COOKIES, \"<ANONYMOUS_USER>\")\n",
    "assert not has_access(taskmax_dodsC, ANONYMOUS_COOKIES, \"<ANONYMOUS_USER>\")\n",
    "\n",
    "print(\"Expected read access to all resources: OK\")"
   ]
  },
  {
   "cell_type": "code",
   "execution_count": 12,
   "metadata": {
    "collapsed": false,
    "jupyter": {
     "outputs_hidden": false
    },
    "pycharm": {
     "name": "#%%\n"
    }
   },
   "outputs": [
    {
     "name": "stdout",
     "output_type": "stream",
     "text": [
      "Cleanup of TEST_USER_NAME [test-user-5d73303e-8a3a-48e9-94bb-197bcf51680e]: OK\n",
      "Cleanup of TEST_GROUP_NAME [test-auth-1aa9f459-f38a-4478-85b1-551634239a65]: OK\n",
      "All tests: OK\n"
     ]
    }
   ],
   "source": [
    "# NBVAL_IGNORE_OUTPUT\n",
    "\n",
    "# final cleanup, everything is expected to have worked up to here,\n",
    "# so force failure to ensure we return to original 'clean' state\n",
    "cleanup_test_data(skip_fail=False)\n",
    "print(\"All tests: OK\")\n"
   ]
  },
  {
   "cell_type": "markdown",
   "metadata": {},
   "source": []
  }
 ],
 "metadata": {
  "celltoolbar": "Attachments",
  "kernelspec": {
   "display_name": "Python 3",
   "language": "python",
   "name": "python3"
  },
  "language_info": {
   "codemirror_mode": {
    "name": "ipython",
    "version": 3
   },
   "file_extension": ".py",
   "mimetype": "text/x-python",
   "name": "python",
   "nbconvert_exporter": "python",
   "pygments_lexer": "ipython3",
   "version": "3.7.9"
  }
 },
 "nbformat": 4,
 "nbformat_minor": 4
}
