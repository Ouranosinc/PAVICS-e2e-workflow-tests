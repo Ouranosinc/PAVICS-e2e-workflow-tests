{
 "cells": [
  {
   "cell_type": "markdown",
   "metadata": {
    "collapsed": true,
    "pycharm": {
     "name": "#%% md\n"
    }
   },
   "source": [
    "# Test THREDDS using Magpie Authentication/Authorization against Twitcher proxy."
   ]
  },
  {
   "cell_type": "markdown",
   "source": [
    "## Configuration parameters"
   ],
   "metadata": {
    "collapsed": false,
    "pycharm": {
     "name": "#%% md\n"
    }
   }
  },
  {
   "cell_type": "code",
   "execution_count": null,
   "outputs": [],
   "source": [
    "from __future__ import print_function\n",
    "import os\n",
    "import uuid\n",
    "import requests\n",
    "print(\"Setup configuration parameters...\")\n",
    "\n",
    "VERIFY_SSL = True if \"DISABLE_VERIFY_SSL\" not in os.environ else False\n",
    "PAVICS_HOST = os.getenv(\"PAVICS_HOST\", \"\").rstrip(\"/\")\n",
    "MAGPIE_URL = PAVICS_HOST + os.getenv(\"MAGPIE_ROOT\", \"/magpie\")\n",
    "TWITCHER_PROXY = os.getenv(\"TWITCHER_PROXY\", \"/twitcher/ows/proxy\")\n",
    "TWITCHER_URL = PAVICS_HOST + TWITCHER_PROXY\n",
    "THREDDS_SERVICE = os.getenv(\"THREDDS_SERVICE\", \"thredds\")\n",
    "THREDDS_URL = \"{}/{}\".format(TWITCHER_URL, THREDDS_SERVICE)\n",
    "\n",
    "HEADERS = {\"Accept\": \"application/json\", \"Content-Type\": \"application/json\"}\n",
    "\n",
    "MAGPIE_TEST_ADMIN_USERNAME = os.getenv(\"MAGPIE_TEST_ADMIN_USERNAME\")\n",
    "MAGPIE_TEST_ADMIN_PASSWORD = os.getenv(\"MAGPIE_TEST_ADMIN_PASSWORD\")\n",
    "MAGPIE_ANONYMOUS_GROUP = os.getenv(\"MAGPIE_ANONYMOUS_GROUP\", \"anonymous\")\n",
    "\n",
    "print(\"  Will use Magpie URL:       [{}]\".format(MAGPIE_URL))\n",
    "print(\"  Will use Twitcher URL:     [{}]\".format(TWITCHER_URL))\n",
    "print(\"  Will use THREDDS service:  [{}]\".format(THREDDS_SERVICE))"
   ],
   "metadata": {
    "collapsed": false,
    "pycharm": {
     "name": "#%%\n"
    }
   }
  },
  {
   "cell_type": "markdown",
   "source": [
    "## Validate test admin user can have needed access to adjust permissions and that anonymous group is valid"
   ],
   "metadata": {
    "collapsed": false
   }
  },
  {
   "cell_type": "code",
   "execution_count": null,
   "outputs": [],
   "source": [
    "print(\"Validate that user has needed admin-level access...\")\n",
    "\n",
    "if not MAGPIE_TEST_ADMIN_USERNAME or not MAGPIE_TEST_ADMIN_PASSWORD:\n",
    "    raise ValueError(\"Missing test admin credentials to run tests.\")\n",
    "\n",
    "def login_user(username, password):\n",
    "    _data = {\"user_name\": username, \"password\": password}\n",
    "    _path = MAGPIE_URL + \"/signin\"\n",
    "    _resp = requests.post(_path, json=_data, verify=VERIFY_SSL, headers=HEADERS)\n",
    "    if _resp.status_code != 200:\n",
    "        raise ValueError(\"Cannot login with provided test admin credentials.\")\n",
    "    return _resp.cookies\n",
    "\n",
    "ADMIN_COOKIES = login_user(MAGPIE_TEST_ADMIN_USERNAME, MAGPIE_TEST_ADMIN_PASSWORD)\n",
    "\n",
    "# test admin-level access with route that is admin only\n",
    "path = MAGPIE_URL + \"/users\"\n",
    "resp = requests.get(path, verify=VERIFY_SSL, cookies=ADMIN_COOKIES, headers=HEADERS)\n",
    "if resp.status_code != 200:\n",
    "    raise ValueError(\"Provided user credentials doesn't have administrative permissions.\")\n",
    "\n",
    "path = \"{}/groups/{}\".format(MAGPIE_URL, MAGPIE_ANONYMOUS_GROUP)\n",
    "resp = requests.get(path, verify=VERIFY_SSL, cookies=ADMIN_COOKIES, headers=HEADERS)\n",
    "if resp.status_code != 200:\n",
    "    raise ValueError(\"Could not validate Magpie anonymous group using name: [{}]\".format(MAGPIE_ANONYMOUS_GROUP))"
   ],
   "metadata": {
    "collapsed": false,
    "pycharm": {
     "name": "#%%\n"
    }
   }
  },
  {
   "cell_type": "markdown",
   "metadata": {
    "collapsed": true,
    "pycharm": {
     "name": "#%% md\n"
    }
   },
   "source": [
    "## Create a test group and test user that will not have admin access"
   ]
  },
  {
   "cell_type": "code",
   "source": [
    "print(\"Create test group and test user...\")\n",
    "\n",
    "TEST_GROUP_NAME = \"test-auth-{!s}\".format(uuid.uuid4())\n",
    "data = {\"group_name\": TEST_GROUP_NAME}\n",
    "path = MAGPIE_URL + \"/groups\"\n",
    "resp = requests.post(path, json=data, verify=VERIFY_SSL, cookies=ADMIN_COOKIES, headers=HEADERS)\n",
    "if resp.status_code != 200:\n",
    "    raise ValueError(\"Could not create test group [{}]\".format(data[\"group_name\"]))\n",
    "\n",
    "TEST_USER_NAME = \"test-user-{!s}\".format(uuid.uuid4())\n",
    "data = {\"user_name\": TEST_USER_NAME, \"password\": TEST_USER_NAME}\n",
    "path = MAGPIE_URL + \"/groups\"\n",
    "resp = requests.post(path, json=data, verify=VERIFY_SSL, cookies=ADMIN_COOKIES, headers=HEADERS)\n",
    "if resp.status_code != 200:\n",
    "    raise ValueError(\"Could not create test group [{}]\".format(data[\"group_name\"]))"
   ],
   "metadata": {
    "collapsed": false,
    "pycharm": {
     "name": "#%%\n"
    }
   },
   "execution_count": null,
   "outputs": []
  },
  {
   "cell_type": "markdown",
   "source": [
    "## Create specific test resources under THREDDS service\n",
    "\n",
    "Expected data structure as per:\n",
    "    [https://github.com/bird-house/birdhouse-deploy/blob/master/birdhouse/scripts/bootstrap-testdata]()"
   ],
   "metadata": {
    "collapsed": false,
    "pycharm": {
     "name": "#%% md\n"
    }
   }
  },
  {
   "cell_type": "code",
   "execution_count": null,
   "outputs": [],
   "source": [
    "print(\"Create test resources under THREDDS service...\")\n",
    "\n",
    "path = MAGPIE_URL + \"/services/{}\".format(THREDDS_SERVICE)\n",
    "resp = requests.get(path, verify=VERIFY_SSL, cookies=ADMIN_COOKIES, headers=HEADERS)\n",
    "if resp.status_code != 200:\n",
    "    raise ValueError(\"Could not fetch THREDDS service details [{}].\".format(THREDDS_SERVICE))\n",
    "thredds_res_id = resp.json()[\"service\"][\"resource_id\"]\n",
    "\n",
    "def create_or_get_resource(resource_name, resource_type, parent_id):\n",
    "    _path = MAGPIE_URL + \"/resources\"\n",
    "    _data = {\"parent_id\": parent_id, \"resource_type\": resource_type, \"resource_name\": resource_name}\n",
    "    _resp = requests.post(_path, json=_data, verify=VERIFY_SSL, cookies=ADMIN_COOKIES, headers=HEADERS)\n",
    "    _msg = \"[name: {}, type: {}, parent: {}].\".format(resource_name, resource_type, parent_id)\n",
    "    if _resp.status_code == 409:\n",
    "        _path = \"{}/{}\".format(_path, parent_id)\n",
    "        _resp = requests.get(_path, verify=VERIFY_SSL, cookies=ADMIN_COOKIES, headers=HEADERS)\n",
    "        if _resp.status_code != 200:\n",
    "            raise ValueError(\"Could not retrieve resource expected to exist {}.\".format(_msg))\n",
    "        _children = resp.json()[\"resource\"][\"children\"]\n",
    "        for _, _child_info in _children.items():\n",
    "            if _child_info[\"resource_name\"] == resource_name:\n",
    "                return _child_info\n",
    "    elif _resp.status_code != 201:\n",
    "        raise ValueError(\"Could not create resource {}, unexpected status: [{}]\".format(_msg, _resp.status_code))\n",
    "    else:\n",
    "        return resp.json()[\"resource\"]\n",
    "    raise ValueError(\"Could not create or retrieve resource {}.\".format(_msg))\n",
    "\n",
    "birdhouse_res = create_or_get_resource(\"birdhouse\", \"directory\", thredds_res_id)\n",
    "testdata_res = create_or_get_resource(\"testdata\", \"directory\", birdhouse_res[\"resource_id\"])\n",
    "secure_res = create_or_get_resource(\"secure\", \"directory\", testdata_res[\"resource_id\"])\n",
    "taskmax_name = \"tasmax_Amon_MPI-ESM-MR_rcp45_r2i1p1_200601-200612.nc\"\n",
    "taskmax_res = create_or_get_resource(taskmax_name, \"file\", secure_res[\"resource_id\"])\n",
    "\n",
    "birdhouse_path = birdhouse_res[\"resource_name\"]\n",
    "birdhouse_catalog = \"catalog/{}/catalog.html\".format(birdhouse_path)\n",
    "testdata_path = \"{}/{}\".format(birdhouse_path, testdata_res[\"resource_name\"])\n",
    "testdata_catalog = \"catalog/{}/catalog.html\".format(testdata_path)\n",
    "secure_path = \"{}/{}\".format(testdata_path, secure_res[\"resource_name\"])\n",
    "secure_catalog = \"catalog/{}/catalog.html\".format(secure_path)\n",
    "taskmax_path = \"{}/{}\".format(secure_path, taskmax_res[\"resource_name\"])\n",
    "taskmax_file = \"fileServer/{}\".format(taskmax_path)\n",
    "taskmax_dodsC = \"dodsC/{}.html\".format(testdata_path)"
   ],
   "metadata": {
    "collapsed": false,
    "pycharm": {
     "name": "#%%\n"
    }
   }
  },
  {
   "cell_type": "markdown",
   "source": [
    "## Create specific permissions for THREDDS resources to block public access to 'secure' directory"
   ],
   "metadata": {
    "collapsed": false,
    "pycharm": {
     "name": "#%% md\n"
    }
   }
  },
  {
   "cell_type": "code",
   "execution_count": null,
   "outputs": [],
   "source": [
    "print(\"Create permissions on test resources...\")\n",
    "\n",
    "def set_permission(permission, resource, target_type, target_name):\n",
    "    _res_id = resource[\"resource_id\"]\n",
    "    _path = \"{}/{}/{}/resources/{}/permissions\".format(MAGPIE_URL, target_type, target_name, _res_id)\n",
    "    _data = {\"permission\": permission}\n",
    "    _resp = requests.put(_path, json=_data, verify=VERIFY_SSL, cookies=ADMIN_COOKIES, headers=HEADERS)\n",
    "    if _resp.status_code not in [200, 201]:\n",
    "        raise ValueError(\"Could not set permission [{}] for [{}, {}] over resource [{}, {}]\"\n",
    "                         .format(permission, target_type, target_name, resource[\"resource_name\"], _res_id))\n",
    "\n",
    "\n",
    "set_permission(\"browse-allow-recursive\", birdhouse_res, \"groups\", MAGPIE_ANONYMOUS_GROUP)\n",
    "set_permission(\"read-allow-recursive\", birdhouse_res, \"groups\", MAGPIE_ANONYMOUS_GROUP)\n",
    "set_permission(\"browse-deny-recursive\", secure_res, \"groups\", MAGPIE_ANONYMOUS_GROUP)\n",
    "set_permission(\"read-deny-recursive\", secure_res, \"groups\", MAGPIE_ANONYMOUS_GROUP)\n"
   ],
   "metadata": {
    "collapsed": false,
    "pycharm": {
     "name": "#%%\n"
    }
   }
  },
  {
   "cell_type": "markdown",
   "source": [
    "## Verify allowed/blocked user access to secured resources"
   ],
   "metadata": {
    "collapsed": false
   }
  },
  {
   "cell_type": "code",
   "execution_count": null,
   "outputs": [],
   "source": [
    "TEST_USER_COOKIES = login_user(TEST_USER_NAME, TEST_USER_NAME)\n",
    "ANONYMOUS_COOKIES = {}\n",
    "\n",
    "\n",
    "def has_access(resource_path, user_cookies, user_name):\n",
    "    _path = \"{}/{}\".format(THREDDS_URL, resource_path)\n",
    "    _resp = requests.get(_path, verify=VERIFY_SSL, cookies=user_cookies)\n",
    "    if _resp.status_code in [200, 401, 403]:\n",
    "        is_allowed = _resp.status_code == 200\n",
    "        print(\"Access to [{}] for user [{}]: {}\".format(_path, user_name, is_allowed))\n",
    "        return is_allowed\n",
    "    raise ValueError(\"Unexpected status code [{}] during access to resource [{}]\".format(_resp.status_code, _path))\n",
    "\n",
    "\n",
    "# admin always has full access regardless of permissions\n",
    "# avoid potential leak of critical admin username here by using a fill-in value\n",
    "assert has_access(birdhouse_catalog, ADMIN_COOKIES, \"<MAGPIE_TEST_ADMIN_USERNAME>\")\n",
    "assert has_access(testdata_catalog, ADMIN_COOKIES, \"<MAGPIE_TEST_ADMIN_USERNAME>\")\n",
    "assert has_access(secure_catalog, ADMIN_COOKIES, \"<MAGPIE_TEST_ADMIN_USERNAME>\")\n",
    "assert has_access(taskmax_file, ADMIN_COOKIES, \"<MAGPIE_TEST_ADMIN_USERNAME>\")\n",
    "assert has_access(taskmax_dodsC, ADMIN_COOKIES, \"<MAGPIE_TEST_ADMIN_USERNAME>\")\n",
    "\n",
    "assert has_access(birdhouse_catalog, TEST_USER_COOKIES, TEST_USER_NAME)\n",
    "assert has_access(testdata_catalog, TEST_USER_COOKIES, TEST_USER_NAME)\n",
    "assert not has_access(secure_catalog, TEST_USER_COOKIES, TEST_USER_NAME)\n",
    "assert not has_access(taskmax_file, TEST_USER_COOKIES, TEST_USER_NAME)\n",
    "assert not has_access(taskmax_dodsC, TEST_USER_COOKIES, TEST_USER_NAME)\n",
    "\n",
    "assert has_access(birdhouse_catalog, ANONYMOUS_COOKIES, \"<ANONYMOUS_USER>\")\n",
    "assert has_access(testdata_catalog, ANONYMOUS_COOKIES, \"<ANONYMOUS_USER>\")\n",
    "assert not has_access(secure_catalog, ANONYMOUS_COOKIES, \"<ANONYMOUS_USER>\")\n",
    "assert not has_access(taskmax_file, ANONYMOUS_COOKIES, \"<ANONYMOUS_USER>\")\n",
    "assert not has_access(taskmax_dodsC, ANONYMOUS_COOKIES, \"<ANONYMOUS_USER>\")\n"
   ],
   "metadata": {
    "collapsed": false,
    "pycharm": {
     "name": "#%%\n"
    }
   }
  },
  {
   "cell_type": "markdown",
   "source": [
    "## Verify that top directories are accessible by test user and blocked at lower levels"
   ],
   "metadata": {
    "collapsed": false
   }
  },
  {
   "cell_type": "code",
   "execution_count": null,
   "outputs": [],
   "source": [
    "# TODO:\n",
    "\n",
    "set_permission(\"browse-allow-recursive\", secure_res, \"groups\", MAGPIE_ANONYMOUS_GROUP)\n",
    "\n"
   ],
   "metadata": {
    "collapsed": false,
    "pycharm": {
     "name": "#%%\n"
    }
   }
  }
 ],
 "metadata": {
  "kernelspec": {
   "name": "python3",
   "language": "python",
   "display_name": "Python 3"
  },
  "language_info": {
   "codemirror_mode": {
    "name": "ipython",
    "version": 3
   },
   "file_extension": ".py",
   "mimetype": "text/x-python",
   "name": "python",
   "nbconvert_exporter": "python",
   "pygments_lexer": "ipython3",
   "version": "3.7.2"
  }
 },
 "nbformat": 4,
 "nbformat_minor": 2
}