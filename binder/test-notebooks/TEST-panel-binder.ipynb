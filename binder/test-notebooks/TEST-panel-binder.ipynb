{
 "cells": [
  {
   "cell_type": "code",
   "execution_count": 1,
   "id": "d79b1053-3144-47d4-824f-49a3666d68e6",
   "metadata": {},
   "outputs": [
    {
     "name": "stderr",
     "output_type": "stream",
     "text": [
      "WARNING:bokeh.server.util:Host wildcard '*' will allow connections originating from multiple (or possibly all) hostnames or IPs. Use non-wildcard values to restrict access explicitly\n"
     ]
    },
    {
     "name": "stdout",
     "output_type": "stream",
     "text": [
      "Launching server at http://localhost:5007\n"
     ]
    }
   ],
   "source": [
    "import panel as pn\n",
    "srv = pn.panel(\n",
    "    pn.widgets.FloatInput(name='an input')\n",
    ").show(port=5007, websocket_origin=\"*\")"
   ]
  },
  {
   "cell_type": "markdown",
   "id": "8f18de16-80bd-40dc-9438-ca176fc8c169",
   "metadata": {},
   "source": [
    "Your current URL should look something like:\n",
    "\n",
    "https://hub.gke2.mybinder.org/user/ouranosinc-pavi--workflow-tests-9jerf8qk/lab/tree/TEST-panel-binder.ipynb\n",
    "\n",
    "Open a new browser tab, then to go to something like this URL (replace `lab/tree/TEST-panel-binder.ipynb` with `proxy/5007/`):\n",
    "\n",
    "https://hub.gke2.mybinder.org/user/ouranosinc-pavi--workflow-tests-9jerf8qk/proxy/5007/"
   ]
  },
  {
   "cell_type": "code",
   "execution_count": null,
   "id": "2d39a37c-8df6-4f27-9aeb-54181f35c295",
   "metadata": {},
   "outputs": [],
   "source": [
    "srv.stop()  # To stop the server."
   ]
  },
  {
   "cell_type": "code",
   "execution_count": null,
   "id": "fb898f21-f543-40b4-8bf4-b701559b842f",
   "metadata": {},
   "outputs": [],
   "source": []
  }
 ],
 "metadata": {
  "kernelspec": {
   "display_name": "Python 3 (ipykernel)",
   "language": "python",
   "name": "python3"
  },
  "language_info": {
   "codemirror_mode": {
    "name": "ipython",
    "version": 3
   },
   "file_extension": ".py",
   "mimetype": "text/x-python",
   "name": "python",
   "nbconvert_exporter": "python",
   "pygments_lexer": "ipython3",
   "version": "3.8.13"
  }
 },
 "nbformat": 4,
 "nbformat_minor": 5
}
