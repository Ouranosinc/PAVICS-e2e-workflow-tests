{
 "cells": [
  {
   "cell_type": "code",
   "execution_count": null,
   "id": "7acdd82a-bc2d-443c-8fa8-e432de9cfa30",
   "metadata": {},
   "outputs": [],
   "source": [
    "import panel as pn\n",
    "pn.panel('# Ceci est un test').servable()"
   ]
  }
 ],
 "metadata": {
  "kernelspec": {
   "display_name": "Python 3 (ipykernel)",
   "language": "python",
   "name": "python3"
  },
  "language_info": {
   "codemirror_mode": {
    "name": "ipython",
    "version": 3
   },
   "file_extension": ".py",
   "mimetype": "text/x-python",
   "name": "python",
   "nbconvert_exporter": "python",
   "pygments_lexer": "ipython3",
   "version": "3.8.13"
  }
 },
 "nbformat": 4,
 "nbformat_minor": 5
}
