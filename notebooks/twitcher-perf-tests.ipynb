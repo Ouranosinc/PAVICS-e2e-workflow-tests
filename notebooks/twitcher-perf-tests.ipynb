{
 "cells": [
  {
   "cell_type": "markdown",
   "metadata": {},
   "source": [
    "# Twitcher performance test\n",
    "\n",
    "Notebook to verify that the three ways to access Twitcher have relatively the same latency.\n",
    "\n",
    "Reproduce and test issue https://github.com/bird-house/twitcher/issues/97\n",
    "\n",
    "To test fix https://github.com/bird-house/birdhouse-deploy/commit/84df6c944b844814ca55e3db488473cd8fcf09d7"
   ]
  },
  {
   "cell_type": "code",
   "execution_count": 11,
   "metadata": {},
   "outputs": [],
   "source": [
    "import xarray as xr\n",
    "import time\n",
    "\n",
    "def extract(url):\n",
    "    ds = xr.open_dataset(url, drop_variables=['ts', 'time_vectors'],\n",
    "                         chunks={'time': 256, 'lat': 16, 'lon': 16})\n",
    "    print(\"got ds\")\n",
    "    ds.isel(lon=slice(0, 10), lat=slice(0, 10)).to_netcdf('test.nc', compute=True)\n",
    "    \n",
    "testhost = 'http://host-140-8.rdext.crim.ca'   # 'https://pavics.ouranos.ca'\n",
    "testfile = 'testdata/tasmax_day_BCCAQv2+ANUSPLIN300_BNU-ESM_historical+rcp85_r1i1p1_1_00101-21001231.nc'\n",
    "\n",
    "TWITCHER_LATENCY_THRESHOLD = 0.30\n",
    "REQUEST_REPLIES = 3"
   ]
  },
  {
   "cell_type": "markdown",
   "metadata": {},
   "source": [
    "### Thredds behind Nginx and Twitcher"
   ]
  },
  {
   "cell_type": "code",
   "execution_count": 14,
   "metadata": {},
   "outputs": [
    {
     "name": "stdout",
     "output_type": "stream",
     "text": [
      "got ds\n",
      "iteration #1: 23.291869163513184\n",
      "got ds\n",
      "iteration #2: 19.063221216201782\n",
      "got ds\n",
      "iteration #3: 21.24903392791748\n",
      "avg time: 21.201374769210815\n"
     ]
    }
   ],
   "source": [
    "# %%time\n",
    "# NBVAL_IGNORE_OUTPUT\n",
    "\n",
    "time_twitcher = 0\n",
    "\n",
    "for i in range(REQUEST_REPLIES):\n",
    "    starttime_twitcher = time.time()\n",
    "    baseurl = f\"{testhost}/twitcher/ows/proxy/thredds/dodsC/birdhouse/{testfile}\"\n",
    "    extract(baseurl)\n",
    "    endtime_twitcher = time.time()\n",
    "    iter_time = endtime_twitcher - starttime_twitcher\n",
    "    print(f\"iteration #{i+1}: \" + str(iter_time))\n",
    "    time_twitcher += iter_time\n",
    "    \n",
    "time_twitcher = time_twitcher / REQUEST_REPLIES\n",
    "print(f\"avg time: {time_twitcher}\")"
   ]
  },
  {
   "cell_type": "markdown",
   "metadata": {},
   "source": [
    "### Thredds behind Nginx"
   ]
  },
  {
   "cell_type": "code",
   "execution_count": 16,
   "metadata": {},
   "outputs": [
    {
     "name": "stdout",
     "output_type": "stream",
     "text": [
      "got ds\n",
      "iteration #1: 9.71524977684021\n",
      "got ds\n",
      "iteration #2: 8.379936218261719\n",
      "got ds\n",
      "iteration #3: 7.967864036560059\n",
      "avg time: 8.687683343887329\n"
     ]
    }
   ],
   "source": [
    "# %%time\n",
    "# NBVAL_IGNORE_OUTPUT\n",
    "\n",
    "time_nginx = 0\n",
    "\n",
    "for i in range(REQUEST_REPLIES):\n",
    "    starttime_nginx = time.time()\n",
    "    baseurl = f\"{testhost}/testthredds/dodsC/testdatasets/{testfile}\"\n",
    "    extract(baseurl)\n",
    "    endtime_nginx = time.time()\n",
    "    iter_time = endtime_nginx - starttime_nginx\n",
    "    print(f\"iteration #{i+1}: \" + str(iter_time))\n",
    "    time_nginx += iter_time\n",
    "    \n",
    "time_nginx = time_nginx / REQUEST_REPLIES\n",
    "print(f\"avg time: {time_nginx}\")"
   ]
  },
  {
   "cell_type": "markdown",
   "metadata": {},
   "source": [
    "### Thredds directly"
   ]
  },
  {
   "cell_type": "code",
   "execution_count": 10,
   "metadata": {},
   "outputs": [
    {
     "name": "stdout",
     "output_type": "stream",
     "text": [
      "got ds\n",
      "iteration #1: 7.8373799324035645\n",
      "got ds\n",
      "iteration #2: 7.59890341758728\n",
      "got ds\n",
      "iteration #3: 7.575238466262817\n",
      "avg time: 7.670507272084554\n"
     ]
    }
   ],
   "source": [
    "# %%time\n",
    "# NBVAL_IGNORE_OUTPUT\n",
    "\n",
    "time_direct = 0\n",
    "\n",
    "for i in range(REQUEST_REPLIES):\n",
    "    starttime_direct = time.time()\n",
    "    baseurl = f\"{testhost}:8083/twitcher/ows/proxy/thredds/dodsC/birdhouse/{testfile}\"\n",
    "    extract(baseurl)\n",
    "    endtime_direct = time.time()\n",
    "    iter_time = endtime_direct - starttime_direct\n",
    "    print(f\"iteration #{i+1}: \" + str(iter_time))\n",
    "    time_direct += iter_time\n",
    "    \n",
    "time_direct = time_direct / REQUEST_REPLIES\n",
    "print(f\"avg time: {time_direct}\")"
   ]
  },
  {
   "cell_type": "markdown",
   "metadata": {},
   "source": [
    "## Test result"
   ]
  },
  {
   "cell_type": "code",
   "execution_count": 38,
   "metadata": {},
   "outputs": [
    {
     "name": "stdout",
     "output_type": "stream",
     "text": [
      "Twitcher overhead: -5%\n"
     ]
    }
   ],
   "source": [
    "# NBVAL_IGNORE_OUTPUT\n",
    "\n",
    "twitcher_overhead = int((time_twitcher / time_nginx) * 100 - 100)\n",
    "print(\"Twitcher overhead: \" + str(twitcher_overhead) + \"%\")"
   ]
  },
  {
   "cell_type": "code",
   "execution_count": 39,
   "metadata": {},
   "outputs": [
    {
     "name": "stdout",
     "output_type": "stream",
     "text": [
      "success\n"
     ]
    }
   ],
   "source": [
    "if twitcher_overhead <= TWITCHER_LATENCY_THRESHOLD * 100:\n",
    "    print(\"success\")\n",
    "else:\n",
    "    print(\"failure\")"
   ]
  },
  {
   "cell_type": "code",
   "execution_count": null,
   "metadata": {},
   "outputs": [],
   "source": []
  },
  {
   "cell_type": "code",
   "execution_count": null,
   "metadata": {},
   "outputs": [],
   "source": []
  }
 ],
 "metadata": {
  "kernelspec": {
   "display_name": "DACCS",
   "language": "python",
   "name": "daccs"
  },
  "language_info": {
   "codemirror_mode": {
    "name": "ipython",
    "version": 3
   },
   "file_extension": ".py",
   "mimetype": "text/x-python",
   "name": "python",
   "nbconvert_exporter": "python",
   "pygments_lexer": "ipython3",
   "version": "3.7.9"
  }
 },
 "nbformat": 4,
 "nbformat_minor": 4
}