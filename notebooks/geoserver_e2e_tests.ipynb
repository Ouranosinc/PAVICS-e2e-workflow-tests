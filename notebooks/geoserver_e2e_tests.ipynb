{
 "cells": [
  {
   "cell_type": "markdown",
   "id": "9fcee1d6-2d2e-4f2b-90a1-c2c7383f2393",
   "metadata": {},
   "source": [
    "# Accessing Geoserver data\n",
    "\n",
    "\n",
    "<!-- The THREDDS data storing netCDF file on PAVICS has some public and private directories. Data from public directories can be accessed anonymously, while data from private directories require authentication. This notebook shows how to access public and private data on the THREDDS server.\n",
    "\n",
    "The PAVICS THREDDS server has a `testdata/` folder, in which we store test datasets to validate process requests. Within that directory is a `secure/` folder whose file access requires authentication. -->"
   ]
  },
  {
   "cell_type": "code",
   "execution_count": 1,
   "id": "3dbaa1f2-4cb3-4e6a-a71e-f7987d460fbf",
   "metadata": {},
   "outputs": [
    {
     "name": "stdout",
     "output_type": "stream",
     "text": [
      "GEOSERVER SECURED URL: https://172.17.0.1/twitcher/ows/proxy/geoserver-secured\n"
     ]
    }
   ],
   "source": [
    "# define some useful variables for following steps\n",
    "import os\n",
    "import requests\n",
    "\n",
    "PAVICS_HOST = os.getenv(\"PAVICS_HOST\", \"pavics.ouranos.ca\")\n",
    "\n",
    "# TODO: remove temp url for testing\n",
    "PAVICS_HOST = \"172.17.0.1\"\n",
    "\n",
    "GEOSERVER_SECURED_URL = f\"https://{PAVICS_HOST}/twitcher/ows/proxy/geoserver-secured\"\n",
    "GEOSERVER_ADMIN_URL = f\"https://{PAVICS_HOST}/geoserver/rest\"\n",
    "\n",
    "assert PAVICS_HOST != \"\", \"Invalid PAVICS HOST value.\"\n",
    "print(\"GEOSERVER SECURED URL:\", GEOSERVER_SECURED_URL)\n",
    "\n",
    "MAGPIE_URL = f\"https://{PAVICS_HOST}/magpie\"\n",
    "\n",
    "MAGPIE_ADMIN_USER = \"admin\"\n",
    "MAGPIE_ADMIN_PASSWORD = \"qwertyqwerty!\"\n",
    "\n",
    "GEOSERVER_ADMIN_USER = \"admingeo\"\n",
    "GEOSERVER_ADMIN_PASSWORD = \"geoserverpass\"\n",
    "\n",
    "MAGPIE_TEST_USER = \"test\"\n",
    "MAGPIE_TEST_PASSWORD = \"qwertyqwerty!\"\n",
    "\n",
    "MAGPIE_NO_PERM_USER = \"no-perm-user\"\n",
    "MAGPIE_NO_PERM_PASSWORD = \"no-perm-pass\"\n",
    "\n",
    "json_headers = {\"Content-type\": \"application/json\"}"
   ]
  },
  {
   "cell_type": "code",
   "execution_count": 2,
   "id": "e2a6afdd-c5e4-4ac0-9674-de352f04b632",
   "metadata": {},
   "outputs": [],
   "source": [
    "def magpie_signin(user_name, password):\n",
    "    signin_url = f\"{MAGPIE_URL}/signin\"\n",
    "    data = {\"user_name\": user_name, \"password\": password}\n",
    "    try:\n",
    "        resp = requests.request(url=signin_url, method=\"POST\", data=data, timeout=10, verify=VERIFY_SSL)\n",
    "    except Exception as exc:\n",
    "        raise RuntimeError(f\"Failed to sign in to Magpie (url: `{url}`) with user `{data['user_name']}`. \"\n",
    "                           f\"Exception : {exc}. \")\n",
    "    if resp.status_code != 200:\n",
    "        raise RuntimeError(f\"Unexpected response while trying to sign in to Magpie : {resp.text}\")\n",
    "    return resp"
   ]
  },
  {
   "cell_type": "code",
   "execution_count": 3,
   "id": "9cfcdeb5-00b4-4043-b06d-aef467232157",
   "metadata": {},
   "outputs": [
    {
     "name": "stderr",
     "output_type": "stream",
     "text": [
      "/home/cumminch/.conda/envs/pavics-sdi/lib/python3.11/site-packages/urllib3/connectionpool.py:1095: InsecureRequestWarning: Unverified HTTPS request is being made to host '172.17.0.1'. Adding certificate verification is strongly advised. See: https://urllib3.readthedocs.io/en/latest/advanced-usage.html#tls-warnings\n",
      "  warnings.warn(\n"
     ]
    }
   ],
   "source": [
    "VERIFY_SSL = False\n",
    "\n",
    "geoserver_admin_session = requests.Session()\n",
    "geoserver_admin_session.verify = VERIFY_SSL\n",
    "geoserver_admin_session.auth = (GEOSERVER_ADMIN_USER, GEOSERVER_ADMIN_PASSWORD)\n",
    "\n",
    "magpie_admin_session = requests.Session()\n",
    "magpie_admin_session.verify = VERIFY_SSL\n",
    "magpie_admin_session.cookies = magpie_signin(MAGPIE_ADMIN_USER, MAGPIE_ADMIN_PASSWORD).cookies\n",
    "\n",
    "test_user_session = requests.Session()\n",
    "test_user_session.verify = VERIFY_SSL\n",
    "\n",
    "no_perm_user_session = requests.Session()\n",
    "no_perm_user_session.verify = VERIFY_SSL"
   ]
  },
  {
   "cell_type": "markdown",
   "id": "0392a67d-193b-4c20-928b-94aa4b024912",
   "metadata": {},
   "source": [
    "### Prepare Geoserver data"
   ]
  },
  {
   "cell_type": "code",
   "execution_count": 5,
   "id": "9aa403b3-3a26-47ad-867a-779bdd9a6267",
   "metadata": {},
   "outputs": [
    {
     "name": "stderr",
     "output_type": "stream",
     "text": [
      "/home/cumminch/.conda/envs/pavics-sdi/lib/python3.11/site-packages/urllib3/connectionpool.py:1095: InsecureRequestWarning: Unverified HTTPS request is being made to host '172.17.0.1'. Adding certificate verification is strongly advised. See: https://urllib3.readthedocs.io/en/latest/advanced-usage.html#tls-warnings\n",
      "  warnings.warn(\n"
     ]
    },
    {
     "data": {
      "text/plain": [
       "<Response [409]>"
      ]
     },
     "execution_count": 5,
     "metadata": {},
     "output_type": "execute_result"
    }
   ],
   "source": [
    "# create workspace\n",
    "workspace_name = \"test_workspace\"\n",
    "payload = {\"workspace\": {\"name\": workspace_name, \"isolated\": \"True\"}}\n",
    "geoserver_admin_session.post(url=f\"{GEOSERVER_ADMIN_URL}/workspaces\", json=payload)"
   ]
  },
  {
   "cell_type": "code",
   "execution_count": 9,
   "id": "66855787-cbc6-4954-b79a-368483cfad11",
   "metadata": {},
   "outputs": [
    {
     "name": "stderr",
     "output_type": "stream",
     "text": [
      "/home/cumminch/.conda/envs/pavics-sdi/lib/python3.11/site-packages/urllib3/connectionpool.py:1095: InsecureRequestWarning: Unverified HTTPS request is being made to host '172.17.0.1'. Adding certificate verification is strongly advised. See: https://urllib3.readthedocs.io/en/latest/advanced-usage.html#tls-warnings\n",
      "  warnings.warn(\n"
     ]
    },
    {
     "data": {
      "text/plain": [
       "\"Store 'test_datastore' already exists in workspace 'test_workspace'\""
      ]
     },
     "execution_count": 9,
     "metadata": {},
     "output_type": "execute_result"
    }
   ],
   "source": [
    "# create datastore\n",
    "datastore_name = \"test_datastore\"\n",
    "geoserver_datastore_path = \"/geoserver-test-data\"\n",
    "payload = {\n",
    "    \"dataStore\": {\n",
    "        \"name\": datastore_name,\n",
    "        \"type\": \"Directory of spatial files (shapefiles)\",\n",
    "        \"connectionParameters\": {\n",
    "            \"entry\": []\n",
    "        }}}\n",
    "geoserver_admin_session.post(url=f\"{GEOSERVER_ADMIN_URL}/workspaces/{workspace_name}/datastores\", json=payload).text"
   ]
  },
  {
   "cell_type": "code",
   "execution_count": 24,
   "id": "550b5910-a26e-46b4-8744-8a5e7aa057e8",
   "metadata": {},
   "outputs": [
    {
     "name": "stderr",
     "output_type": "stream",
     "text": [
      "/home/cumminch/.conda/envs/pavics-sdi/lib/python3.11/site-packages/urllib3/connectionpool.py:1095: InsecureRequestWarning: Unverified HTTPS request is being made to host '172.17.0.1'. Adding certificate verification is strongly advised. See: https://urllib3.readthedocs.io/en/latest/advanced-usage.html#tls-warnings\n",
      "  warnings.warn(\n"
     ]
    },
    {
     "data": {
      "text/plain": [
       "<Response [200]>"
      ]
     },
     "execution_count": 24,
     "metadata": {},
     "output_type": "execute_result"
    }
   ],
   "source": [
    "# configure datastore\n",
    "payload = {\n",
    "    \"dataStore\": {\n",
    "        \"name\": datastore_name,\n",
    "        \"type\": \"Directory of spatial files (shapefiles)\",\n",
    "        \"connectionParameters\": {\n",
    "            \"entry\": [\n",
    "                {\"$\": \"UTF-8\",\n",
    "                 \"@key\": \"charset\"},\n",
    "                {\"$\": \"shapefile\",\n",
    "                 \"@key\": \"filetype\"},\n",
    "                {\"$\": \"true\",\n",
    "                 \"@key\": \"create spatial index\"},\n",
    "                {\"$\": \"true\",\n",
    "                 \"@key\": \"memory mapped buffer\"},\n",
    "                {\"$\": \"GMT\",\n",
    "                 \"@key\": \"timezone\"},\n",
    "                {\"$\": \"true\",\n",
    "                 \"@key\": \"enable spatial index\"},\n",
    "                {\"$\": f\"http://{datastore_name}\",\n",
    "                 \"@key\": \"namespace\"},\n",
    "                {\"$\": \"true\",\n",
    "                 \"@key\": \"cache and reuse memory maps\"},\n",
    "                {\"$\": f\"file://{geoserver_datastore_path}\",\n",
    "                 \"@key\": \"url\"},\n",
    "                {\"$\": \"shape\",\n",
    "                 \"@key\": \"fstype\"},\n",
    "            ]\n",
    "        },\n",
    "    }\n",
    "}\n",
    "geoserver_admin_session.put(url=f\"{GEOSERVER_ADMIN_URL}/workspaces/{workspace_name}/datastores/{datastore_name}\", json=payload)"
   ]
  },
  {
   "cell_type": "code",
   "execution_count": 12,
   "id": "ac0d25e6-52b9-4463-b970-be223498e55c",
   "metadata": {},
   "outputs": [
    {
     "name": "stderr",
     "output_type": "stream",
     "text": [
      "/home/cumminch/.conda/envs/pavics-sdi/lib/python3.11/site-packages/urllib3/connectionpool.py:1095: InsecureRequestWarning: Unverified HTTPS request is being made to host '172.17.0.1'. Adding certificate verification is strongly advised. See: https://urllib3.readthedocs.io/en/latest/advanced-usage.html#tls-warnings\n",
      "  warnings.warn(\n"
     ]
    },
    {
     "data": {
      "text/plain": [
       "{'_content': b\"Resource named 'Espace_Vert' already exists in store: 'test_datastore'\",\n",
       " '_content_consumed': True,\n",
       " '_next': None,\n",
       " 'status_code': 500,\n",
       " 'headers': {'Server': 'nginx/1.23.4', 'Date': 'Fri, 08 Sep 2023 18:05:06 GMT', 'Content-Type': 'text/plain', 'Transfer-Encoding': 'chunked', 'Connection': 'keep-alive', 'X-Frame-Options': 'SAMEORIGIN', 'X-Content-Type-Options': 'nosniff', 'X-XSS-Protection': '1; mode=block', 'Access-Control-Allow-Origin': '*', 'Access-Control-Expose-Headers': 'Access-Control-Allow-Origin,Access-Control-Allow-Credentials'},\n",
       " 'raw': <urllib3.response.HTTPResponse at 0x7f59b4319b40>,\n",
       " 'url': 'https://172.17.0.1/geoserver/rest/workspaces/test_workspace/datastores/test_datastore/featuretypes',\n",
       " 'encoding': 'ISO-8859-1',\n",
       " 'history': [],\n",
       " 'reason': '',\n",
       " 'cookies': <RequestsCookieJar[]>,\n",
       " 'elapsed': datetime.timedelta(microseconds=59019),\n",
       " 'request': <PreparedRequest [POST]>,\n",
       " 'connection': <requests.adapters.HTTPAdapter at 0x7f59b74293d0>}"
      ]
     },
     "execution_count": 12,
     "metadata": {},
     "output_type": "execute_result"
    }
   ],
   "source": [
    "# publish shapefile\n",
    "filename = \"Espace_Vert\" ## TODO FILL ME : shapefile name with no extension\n",
    "shapefile_payload = {\n",
    "    \"featureType\": {\n",
    "        \"name\": filename,\n",
    "        \"nativeCRS\": \"\"\"\n",
    "                        GEOGCS[\n",
    "                            \"WGS 84\", \n",
    "                            DATUM[\n",
    "                                \"World Geodetic System 1984\",\n",
    "                                SPHEROID[\"WGS 84\", 6378137.0, 298.257223563, AUTHORITY[\"EPSG\",\"7030\"]],\n",
    "                                AUTHORITY[\"EPSG\",\"6326\"]\n",
    "                            ],\n",
    "                            PRIMEM[\"Greenwich\", 0.0, AUTHORITY[\"EPSG\",\"8901\"]],\n",
    "                            UNIT[\"degree\", 0.017453292519943295],\n",
    "                            AXIS[\"Geodetic longitude\", EAST],\n",
    "                            AXIS[\"Geodetic latitude\", NORTH],\n",
    "                            AUTHORITY[\"EPSG\",\"4326\"]\n",
    "                        ]\n",
    "                    \"\"\",\n",
    "        \"srs\": \"EPSG:4326\",\n",
    "        \"projectionPolicy\": \"REPROJECT_TO_DECLARED\",\n",
    "        \"maxFeatures\": 5000,\n",
    "        \"numDecimals\": 6,\n",
    "    }\n",
    "}\n",
    "\n",
    "resp = geoserver_admin_session.post(\n",
    "    url=f\"{GEOSERVER_ADMIN_URL}/workspaces/{workspace_name}/datastores/{datastore_name}/featuretypes\",\n",
    "    json=shapefile_payload,\n",
    "    headers=json_headers\n",
    ")\n",
    "resp.__dict__"
   ]
  },
  {
   "cell_type": "code",
   "execution_count": 26,
   "id": "32b32dcf-4f96-47e2-be01-d98266418ceb",
   "metadata": {},
   "outputs": [
    {
     "name": "stderr",
     "output_type": "stream",
     "text": [
      "/home/cumminch/.conda/envs/pavics-sdi/lib/python3.11/site-packages/urllib3/connectionpool.py:1095: InsecureRequestWarning: Unverified HTTPS request is being made to host '172.17.0.1'. Adding certificate verification is strongly advised. See: https://urllib3.readthedocs.io/en/latest/advanced-usage.html#tls-warnings\n",
      "  warnings.warn(\n"
     ]
    },
    {
     "data": {
      "text/plain": [
       "b'<!DOCTYPE html PUBLIC \"-//W3C//DTD XHTML 1.0 Transitional//EN\"\\n    \"http://www.w3.org/TR/xhtml1/DTD/xhtml1-transitional.dtd\">\\n<html xmlns=\"http://www.w3.org/1999/xhtml\" xml:lang=\"en\" lang=\"en\">\\n<head>\\n    <title>GeoServer Configuration</title>\\n    <meta name=\"ROBOTS\" content=\"NOINDEX, NOFOLLOW\"/>\\n</head>\\n<body>\\n\\nFeature Types:\\n<ul>\\n  <li><a href=\"https://172.17.0.1/geoserver/rest/workspaces/test_workspace/datastores/test_datastore/featuretypes/Espace_Vert.html\">Espace_Vert</a></li>\\n</ul>\\n</body>\\n</html>\\n'"
      ]
     },
     "execution_count": 26,
     "metadata": {},
     "output_type": "execute_result"
    }
   ],
   "source": [
    "# get feature types info\n",
    "geoserver_admin_session.get(url=f\"{GEOSERVER_ADMIN_URL}/workspaces/{workspace_name}/datastores/{datastore_name}/featuretypes\",\n",
    "                           headers=json_headers).content"
   ]
  },
  {
   "cell_type": "code",
   "execution_count": 15,
   "id": "a8074922-36f3-436d-aa02-eb3db128f5b7",
   "metadata": {},
   "outputs": [
    {
     "data": {
      "text/plain": [
       "{'dataStore': {'name': 'test_datastore',\n",
       "  'type': 'Directory of spatial files (shapefiles)',\n",
       "  'enabled': True,\n",
       "  'workspace': {'name': 'test_workspace',\n",
       "   'href': 'http://localhost:8765/geoserver/rest/workspaces/test_workspace.json'},\n",
       "  'connectionParameters': {'entry': [{'@key': 'charset', '$': 'UTF-8'},\n",
       "    {'@key': 'filetype', '$': 'shapefile'},\n",
       "    {'@key': 'create spatial index', '$': 'true'},\n",
       "    {'@key': 'memory mapped buffer', '$': 'true'},\n",
       "    {'@key': 'timezone', '$': 'GMT'},\n",
       "    {'@key': 'enable spatial index', '$': 'true'},\n",
       "    {'@key': 'namespace', '$': 'http://test_datastore'},\n",
       "    {'@key': 'cache and reuse memory maps', '$': 'true'},\n",
       "    {'@key': 'url',\n",
       "     '$': 'file:///home/cumminch/PAVICS-e2e-workflow-tests/notebooks/test_workspace'},\n",
       "    {'@key': 'fstype', '$': 'shape'}]},\n",
       "  '_default': False,\n",
       "  'dateCreated': '2023-09-08 17:31:25.508 UTC',\n",
       "  'dateModified': '2023-09-08 17:31:29.663 UTC',\n",
       "  'featureTypes': 'http://localhost:8765/geoserver/rest/workspaces/test_workspace/datastores/test_datastore/featuretypes.json'}}"
      ]
     },
     "execution_count": 15,
     "metadata": {},
     "output_type": "execute_result"
    }
   ],
   "source": [
    "# get datastore info\n",
    "geoserver_admin_session.get(url=f\"{GEOSERVER_ADMIN_URL}/workspaces/{workspace_name}/datastores/{datastore_name}\").json()"
   ]
  },
  {
   "cell_type": "code",
   "execution_count": 17,
   "id": "7a16c212-cab1-47c7-b5a1-fd2268e574ed",
   "metadata": {},
   "outputs": [
    {
     "name": "stderr",
     "output_type": "stream",
     "text": [
      "/home/cumminch/.conda/envs/pavics-sdi/lib/python3.11/site-packages/urllib3/connectionpool.py:1095: InsecureRequestWarning: Unverified HTTPS request is being made to host '172.17.0.1'. Adding certificate verification is strongly advised. See: https://urllib3.readthedocs.io/en/latest/advanced-usage.html#tls-warnings\n",
      "  warnings.warn(\n",
      "/home/cumminch/.conda/envs/pavics-sdi/lib/python3.11/site-packages/urllib3/connectionpool.py:1095: InsecureRequestWarning: Unverified HTTPS request is being made to host '172.17.0.1'. Adding certificate verification is strongly advised. See: https://urllib3.readthedocs.io/en/latest/advanced-usage.html#tls-warnings\n",
      "  warnings.warn(\n"
     ]
    },
    {
     "data": {
      "text/plain": [
       "<Response [200]>"
      ]
     },
     "execution_count": 17,
     "metadata": {},
     "output_type": "execute_result"
    }
   ],
   "source": [
    "# delete featuretype\n",
    "geoserver_admin_session.delete(url=f\"{GEOSERVER_ADMIN_URL}/layers/{filename}\")\n",
    "geoserver_admin_session.delete(url=f\"{GEOSERVER_ADMIN_URL}/workspaces/{workspace_name}/datastores/{datastore_name}/featuretypes/{filename}\")"
   ]
  },
  {
   "cell_type": "code",
   "execution_count": 18,
   "id": "7dc1d963-bd12-4393-a366-cf8a7f797fc4",
   "metadata": {},
   "outputs": [
    {
     "name": "stderr",
     "output_type": "stream",
     "text": [
      "/home/cumminch/.conda/envs/pavics-sdi/lib/python3.11/site-packages/urllib3/connectionpool.py:1095: InsecureRequestWarning: Unverified HTTPS request is being made to host '172.17.0.1'. Adding certificate verification is strongly advised. See: https://urllib3.readthedocs.io/en/latest/advanced-usage.html#tls-warnings\n",
      "  warnings.warn(\n"
     ]
    },
    {
     "data": {
      "text/plain": [
       "<Response [200]>"
      ]
     },
     "execution_count": 18,
     "metadata": {},
     "output_type": "execute_result"
    }
   ],
   "source": [
    "# delete datastore\n",
    "geoserver_admin_session.delete(url=f\"{GEOSERVER_ADMIN_URL}/workspaces/{workspace_name}/datastores/{datastore_name}\")"
   ]
  },
  {
   "cell_type": "code",
   "execution_count": 15,
   "id": "73b52473-bdb7-4a46-abbf-9a3ff8ef01d5",
   "metadata": {},
   "outputs": [
    {
     "name": "stderr",
     "output_type": "stream",
     "text": [
      "/home/cumminch/.conda/envs/pavics-sdi/lib/python3.11/site-packages/urllib3/connectionpool.py:1095: InsecureRequestWarning: Unverified HTTPS request is being made to host '172.17.0.1'. Adding certificate verification is strongly advised. See: https://urllib3.readthedocs.io/en/latest/advanced-usage.html#tls-warnings\n",
      "  warnings.warn(\n"
     ]
    },
    {
     "data": {
      "text/plain": [
       "{'workspaces': {'workspace': [{'name': 'test_workspace',\n",
       "    'href': 'https://172.17.0.1/geoserver/rest/workspaces/test_workspace.json'}]}}"
      ]
     },
     "execution_count": 15,
     "metadata": {},
     "output_type": "execute_result"
    }
   ],
   "source": [
    "# get on /workspaces\n",
    "geoserver_admin_session.get(url=f\"{GEOSERVER_ADMIN_URL}/workspaces\").json()"
   ]
  },
  {
   "cell_type": "markdown",
   "id": "4c5cdb5a-f4fc-4c75-84f4-54078746d839",
   "metadata": {},
   "source": [
    "### Prepare Magpie users and permissions"
   ]
  },
  {
   "cell_type": "code",
   "execution_count": 16,
   "id": "a210971b-9b47-4df7-ab9d-1ba52e042f4e",
   "metadata": {},
   "outputs": [
    {
     "name": "stderr",
     "output_type": "stream",
     "text": [
      "/home/cumminch/.conda/envs/pavics-sdi/lib/python3.11/site-packages/urllib3/connectionpool.py:1095: InsecureRequestWarning: Unverified HTTPS request is being made to host '172.17.0.1'. Adding certificate verification is strongly advised. See: https://urllib3.readthedocs.io/en/latest/advanced-usage.html#tls-warnings\n",
      "  warnings.warn(\n",
      "/home/cumminch/.conda/envs/pavics-sdi/lib/python3.11/site-packages/urllib3/connectionpool.py:1095: InsecureRequestWarning: Unverified HTTPS request is being made to host '172.17.0.1'. Adding certificate verification is strongly advised. See: https://urllib3.readthedocs.io/en/latest/advanced-usage.html#tls-warnings\n",
      "  warnings.warn(\n",
      "/home/cumminch/.conda/envs/pavics-sdi/lib/python3.11/site-packages/urllib3/connectionpool.py:1095: InsecureRequestWarning: Unverified HTTPS request is being made to host '172.17.0.1'. Adding certificate verification is strongly advised. See: https://urllib3.readthedocs.io/en/latest/advanced-usage.html#tls-warnings\n",
      "  warnings.warn(\n",
      "/home/cumminch/.conda/envs/pavics-sdi/lib/python3.11/site-packages/urllib3/connectionpool.py:1095: InsecureRequestWarning: Unverified HTTPS request is being made to host '172.17.0.1'. Adding certificate verification is strongly advised. See: https://urllib3.readthedocs.io/en/latest/advanced-usage.html#tls-warnings\n",
      "  warnings.warn(\n"
     ]
    }
   ],
   "source": [
    "magpie_admin_session.post(\n",
    "    url=f\"{MAGPIE_URL}/users\",\n",
    "    data={\n",
    "        \"user_name\": MAGPIE_TEST_USER,\n",
    "        \"email\": \"test@user.com\",\n",
    "        \"password\": MAGPIE_TEST_PASSWORD,\n",
    "        \"group_name\": \"users\"},\n",
    "    allow_redirects=False)\n",
    "test_user_session.cookies = magpie_signin(MAGPIE_TEST_USER, MAGPIE_TEST_PASSWORD).cookies\n",
    "\n",
    "magpie_admin_session.post(\n",
    "    url=f\"{MAGPIE_URL}/users\",\n",
    "    data={\n",
    "        \"user_name\": MAGPIE_NO_PERM_USER,\n",
    "        \"email\": \"no-perm-test@user.com\",\n",
    "        \"password\": MAGPIE_NO_PERM_PASSWORD,\n",
    "        \"group_name\": \"users\"},\n",
    "    allow_redirects=False)\n",
    "no_perm_user_session.cookies = magpie_signin(MAGPIE_NO_PERM_USER, MAGPIE_NO_PERM_PASSWORD).cookies"
   ]
  },
  {
   "cell_type": "markdown",
   "id": "79d42f14-0435-45b0-bb22-b6242254216f",
   "metadata": {},
   "source": [
    "### Test user access"
   ]
  },
  {
   "cell_type": "code",
   "execution_count": 17,
   "id": "99571706-ae26-4465-9b68-8669356e47d6",
   "metadata": {},
   "outputs": [
    {
     "name": "stderr",
     "output_type": "stream",
     "text": [
      "/home/cumminch/.conda/envs/pavics-sdi/lib/python3.11/site-packages/urllib3/connectionpool.py:1095: InsecureRequestWarning: Unverified HTTPS request is being made to host '172.17.0.1'. Adding certificate verification is strongly advised. See: https://urllib3.readthedocs.io/en/latest/advanced-usage.html#tls-warnings\n",
      "  warnings.warn(\n"
     ]
    },
    {
     "data": {
      "text/plain": [
       "<Response [200]>"
      ]
     },
     "execution_count": 17,
     "metadata": {},
     "output_type": "execute_result"
    }
   ],
   "source": [
    "# requests.get(url=f\"{BASE_URL}/geoserver-secured/wfs?version=2.0.0&request=GetFeature&typeNames=public:{LAYER_NAME}\n",
    "\n",
    "test_user_session.get(url=f\"https://172.17.0.1/twitcher/ows/proxy/geoserver-secured/wfs?version=2.0.0&request=GetCapabilities\")\n"
   ]
  },
  {
   "cell_type": "code",
   "execution_count": null,
   "id": "e66038b8-0a66-4d04-966a-540db71f8480",
   "metadata": {},
   "outputs": [],
   "source": []
  },
  {
   "cell_type": "code",
   "execution_count": null,
   "id": "a9c05d1f-0f05-4dcb-8c04-440bdc391775",
   "metadata": {},
   "outputs": [],
   "source": []
  }
 ],
 "metadata": {
  "kernelspec": {
   "display_name": "Python 3 (ipykernel)",
   "language": "python",
   "name": "python3"
  },
  "language_info": {
   "codemirror_mode": {
    "name": "ipython",
    "version": 3
   },
   "file_extension": ".py",
   "mimetype": "text/x-python",
   "name": "python",
   "nbconvert_exporter": "python",
   "pygments_lexer": "ipython3",
   "version": "3.11.4"
  }
 },
 "nbformat": 4,
 "nbformat_minor": 5
}
