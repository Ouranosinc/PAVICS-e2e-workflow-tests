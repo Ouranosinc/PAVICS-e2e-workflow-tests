{
 "cells": [
  {
   "cell_type": "code",
   "execution_count": 1,
   "metadata": {
    "collapsed": true
   },
   "outputs": [],
   "source": [
    "from __future__ import print_function\n",
    "from netCDF4 import Dataset\n",
    "import requests\n",
    "from lxml import etree  \n",
    "import matplotlib.pyplot as plt\n",
    "from owslib.wps import WebProcessingService, ComplexDataInput \n"
   ]
  },
  {
   "cell_type": "code",
   "execution_count": 2,
   "metadata": {
    "collapsed": true
   },
   "outputs": [],
   "source": [
    "def parseStatus(execute):\n",
    "    o = requests.get(execute.statusLocation)\n",
    "    t = etree.fromstring(o.content)\n",
    "    ref = t.getchildren()[-1].getchildren()[-1].getchildren()[-1].get('{http://www.w3.org/1999/xlink}href')\n",
    "    \n",
    "    return ref"
   ]
  },
  {
   "cell_type": "code",
   "execution_count": 3,
   "metadata": {
    "collapsed": true
   },
   "outputs": [],
   "source": [
    "# catalogue WPS url\n",
    "wpsURL = 'https://pavics.ouranos.ca/twitcher/ows/proxy/catalog/pywps'\n",
    "\n",
    "# Connection \n",
    "wpsCatalogue = WebProcessingService(url=wpsURL)"
   ]
  },
  {
   "cell_type": "code",
   "execution_count": 4,
   "metadata": {},
   "outputs": [
    {
     "name": "stdout",
     "output_type": "stream",
     "text": [
      "getpoint \t : Return a single value from a NetCDF file at the given grid coordinates. \n",
      "\n",
      "ncplotly \t : Return a dictionary storing the data necessary to create a simple plotly time series. \n",
      "\n",
      "pavicrawler \t : Crawl thredds server and write metadata to SOLR database. \n",
      "\n",
      "pavicsearch \t : Search the PAVICS database and return a catalogue of matches. \n",
      "\n",
      "pavicsupdate \t : Update database entries using key:value pairs and identified by their ids. \n",
      "\n",
      "pavicsvalidate \t : Query database entries for missing required facets. \n",
      "\n",
      "period2indices \t : The final index is inclusive. \n",
      "\n",
      "pavicstestdocs \t : Add test documents to Solr index. \n",
      "\n"
     ]
    }
   ],
   "source": [
    "for process in wpsCatalogue.processes:\n",
    "    print ('%s \\t : %s \\n' %(process.identifier, process.abstract))"
   ]
  },
  {
   "cell_type": "code",
   "execution_count": 5,
   "metadata": {},
   "outputs": [
    {
     "name": "stdout",
     "output_type": "stream",
     "text": [
      "Flyingpigeon 1.1_dev\n"
     ]
    }
   ],
   "source": [
    "wpsURL = 'https://pavics.ouranos.ca/twitcher/ows/proxy/flyingpigeon/wps'\n",
    "wpsFP = WebProcessingService(wpsURL)\n",
    "print(wpsFP.identification.title)"
   ]
  },
  {
   "cell_type": "code",
   "execution_count": 6,
   "metadata": {},
   "outputs": [
    {
     "name": "stdout",
     "output_type": "stream",
     "text": [
      "subset_countries \t : Return the data whose grid cells intersect the selected countries for each input dataset. \n",
      "\n",
      "subset_continents \t : Return the data whose grid cells intersect the selected continents for each input dataset. \n",
      "\n",
      "subset_regionseurope \t : Return the data whose grid cells inteserct the selected regions for each input dataset. \n",
      "\n",
      "pointinspection \t : Extract the timeseries at the given coordinates. \n",
      "\n",
      "landseamask \t : Mask grid cells according to their land area fraction. This process uses the ESGF datastore to access an appropriate land/sea mask. \n",
      "\n",
      "fetch_resources \t : Fetch data resources (limited to 50GB) to the local filesystem of the birdhouse compute provider. \n",
      "\n",
      "indices_percentiledays \t : Climatological percentile for each day of the year computed over the entire dataset. \n",
      "\n",
      "indices_single \t : Climate index calculated from one daily input variable. \n",
      "\n",
      "sdm_gbiffetch \t : Species occurence search in Global Biodiversity              Infrastructure Facillity (GBIF) \n",
      "\n",
      "sdm_getindices \t : Indices preparation for SDM process \n",
      "\n",
      "sdm_csvindices \t : Indices preparation for SDM process \n",
      "\n",
      "sdm_csv \t : Indices preparation for SDM process \n",
      "\n",
      "sdm_allinone \t : Indices preparation for SDM process \n",
      "\n",
      "weatherregimes_reanalyse \t : k-mean cluster analyse of the pressure patterns. Clusters are equivalent to weather regimes \n",
      "\n",
      "weatherregimes_projection \t : k-mean cluster analyse of the pressure patterns. Clusters are equivalent to weather regimes \n",
      "\n",
      "weatherregimes_model \t : k-mean cluster analyse of the pressure patterns. Clusters are equivalent to weather regimes \n",
      "\n",
      "plot_timeseries \t : Outputs some timeseries of the file field means. Spaghetti and uncertainty plot \n",
      "\n",
      "segetalflora \t : Species biodiversity of segetal flora. \n",
      "\n",
      "spatial_analog \t : Spatial analogs based on the comparison of climate indices. The algorithm compares the distribution of the target indices with the distribution of spatially distributed candidate indices and returns a value  measuring the dissimilarity between both distributions over the candidate grid. \n",
      "\n",
      "map_spatial_analog \t : Produce map showing the dissimilarity values computed by the spatial_analog process as well as indicating by a marker the location of the target site. \n",
      "\n",
      "subset \t : Return the data for which grid cells intersect the selected polygon for each input dataset as well asthe time range selected. \n",
      "\n",
      "averager \t : Return the data with weighted average of grid cells intersecting the selected polygon for each input dataset as well as the time range selected. \n",
      "\n",
      "subset_WFS \t : Return the data for which grid cells intersect the selected polygon for each input dataset. \n",
      "\n",
      "averager_WFS \t : Return the data with weighted average of grid cells intersecting the selected polygon for each input dataset. \n",
      "\n",
      "subset_bbox \t : Return the data for which grid cells intersect the bounding box for each input dataset as well asthe time range selected. \n",
      "\n",
      "averager_bbox \t : Return the data with weighted average of grid cells intersecting the bounding box for each input dataset as well as the time range selected. \n",
      "\n",
      "ouranos_public_indicators \t : Compute climate indicators: mean daily temp., min daily temp., max daily temp., growing degree days, number of days above 30C, freeze thaw cycles, total precipitation, and max 5-day precip. \n",
      "\n",
      "ncmerge \t : Merge NetCDF files in the time dimension. \n",
      "\n",
      "EO_COPERNICUS_search \t : Search for EO Data in the scihub.copernicus archiveoutput is a list of Product according to the querry and a graphical visualisation. \n",
      "\n",
      "EO_COPERNICUS_fetch \t : Search for EO Data in the scihub.copernicus archiveproducts will be fechted into the local disc system.outuput is a list of produces and a graphical visualisation. \n",
      "\n",
      "esmf_regrid \t : Regrid netCDF files to a destination grid. \n",
      "\n",
      "EO_COPERNICUS_rgb \t : Based on a search querry the appropriate products are ploted as RGB graphics \n",
      "\n",
      "EO_COPERNICUS_indices \t : Derivateing indices like NDVI based on \n",
      "\n",
      "kddm_bc \t : Bias correction method using Kernel Density Distribution Mapping (KDDM). \n",
      "\n",
      "freezethaw \t : Number of freeze-thaw events, where freezing and thawing occurs once a threshold of degree days below or above 0C is reached. A complete cycle (freeze-thaw-freeze) will return a value of 2. \n",
      "\n",
      "duration \t : Summarizes consecutive occurrences in a sequence where the logical operation returns TRUE. The summary operation is applied to the sequences within a temporal aggregation. \n",
      "\n",
      "icclim_TXx \t : Calculates the TXx indice: maximum of daily maximum temperature. \n",
      "\n",
      "icclim_SD \t : Calculates the SD indice: mean of daily snow depth [cm] \n",
      "\n",
      "icclim_TX90p \t : Calculate the TX90p indice: number of warm days-times (i.e. days with daily max temperature > 90th percentile of daily max temperature in the base period). \n",
      "\n",
      "icclim_R99pTOT \t : Calculate the R99pTOT indice: precipitation fraction due to extremely wet days (i.e. days with daily precipitation amount > 99th percentile of daily amount in the base period) [%] \n",
      "\n",
      "icclim_TXn \t : Calculates the TXn indice: minimum of daily maximum temperature. \n",
      "\n",
      "icclim_CDD \t : Calculates the CDD indice: maximum number of consecutive dry days (i.e. days with daily precipitation amount < 1 mm) [days]. \n",
      "\n",
      "icclim_TG90p \t : Calculate the TG90p indice: number of warm days (i.e. days with daily mean temperature > 90th percentile of daily mean temperature in the base period). \n",
      "\n",
      "icclim_SU \t : Calculates the SU indice: number of summer days (i.e. days with daily maximum temperature > 25 degrees Celsius) [days]. \n",
      "\n",
      "icclim_CFD \t : Calculates the CFD indice: maximum number of consecutive frost days (i.e. days with daily minimum temperature < 0 degrees Celsius) [days]. \n",
      "\n",
      "icclim_TN10p \t : Calculate the TN10p indice: number of cold nights (i.e. days with daily min temperature < 10th percentile of daily min temperature in the base period). \n",
      "\n",
      "icclim_TG \t : Calculates the TG indice: mean of daily mean temperature. \n",
      "\n",
      "icclim_TN90p \t : Calculate the TN90p indice: number of warm nights (i.e. days with daily min temperature > 90th percentile of daily min temperature in the base period). \n",
      "\n",
      "icclim_TR \t : Calculates the TR indice: number of tropical nights (i.e. days with daily minimum temperature > 20 degrees Celsius) [days]. \n",
      "\n",
      "icclim_RX5day \t : Calculates the RX5day indice: maximum consecutive 5-day precipitation amount [mm] \n",
      "\n",
      "icclim_vDTR \t : Calculates the vDTR indice: mean absolute day-to-day difference in DTR. \n",
      "\n",
      "icclim_SD50cm \t : Calculates the SD50cm indice: number of days with snow depth >= 50 cm [days] \n",
      "\n",
      "icclim_CWD \t : Calculates the CWD indice: maximum number of consecutive wet days (i.e. days with daily precipitation amount > = 1 mm) [days]. \n",
      "\n",
      "icclim_ID \t : Calculates the ID indice: number of ice days (i.e. days with daily maximum temperature < 0 degrees Celsius) [days]. \n",
      "\n",
      "icclim_R20mm \t : Calculates the R20mm indice: number of very heavy precipitation days (i.e. days with daily precipitation amount > = 20 mm) [days] \n",
      "\n",
      "icclim_CSU \t : Calculates the CSU indice: maximum number of consecutive summer days (i.e. days with daily maximum temperature > 25 degrees Celsius) [days]. \n",
      "\n",
      "icclim_RX1day \t : Calculates the RX1day indice: maximum 1-day precipitation amount [mm] \n",
      "\n",
      "icclim_WSDI \t : Calculate the WSDI indice (warm-spell duration index): number of days where, in intervals of at least 6 consecutive days, \n",
      "\n",
      "icclim_RR1 \t : Calculates the RR1 indice: number of wet days (i.e. days with daily precipitation amount > = 1 mm) [days] \n",
      "\n",
      "icclim_CSDI \t : Calculate the CSDI indice (cold-spell duration index): number of days where, in intervals of at least 6 consecutive days, \n",
      "\n",
      "icclim_R75pTOT \t : Calculate the R75pTOT indice: precipitation fraction due to moderate wet days (i.e. days with daily precipitation amount > 75th percentile of daily amount in the base period) [%] \n",
      "\n",
      "icclim_R95pTOT \t : Calculate the R95pTOT indice: precipitation fraction due to very wet days (i.e. days with daily precipitation amount > 95th percentile of daily amount in the base period) [%] \n",
      "\n",
      "icclim_R10mm \t : Calculates the R10mm indice: number of heavy precipitation days (i.e. days with daily precipitation amount > = 10 mm) [days] \n",
      "\n",
      "icclim_SDII \t : Calculates the SDII (simple daily intensity index) indice:  mean precipitation amount of wet days (i.e. days with daily precipitation amount > = 1 mm) [mm] \n",
      "\n",
      "icclim_DTR \t : Calculates the DTR indice: mean of daily temperature range. \n",
      "\n",
      "icclim_TG10p \t : Calculate the TG10p indice: number of cold days (i.e. days with daily mean temperature < 10th percentile of daily mean temperature in the base period). \n",
      "\n",
      "icclim_TX \t : Calculates the TX indice: mean of daily maximum temperature. \n",
      "\n",
      "icclim_PRCPTOT \t : Calculates the PRCPTOT indice: total precipitation in wet days [mm] \n",
      "\n",
      "icclim_TN \t : Calculates the TN indice: mean of daily minimum temperature. \n",
      "\n",
      "icclim_R75p \t : Calculate the R75p indice: number of moderate wet days (i.e. days with daily precipitation amount > 75th percentile of daily amount in the base period). \n",
      "\n",
      "icclim_TNx \t : Calculates the TNx indice: maximum of daily minimum temperature. \n",
      "\n",
      "icclim_SD5cm \t : Calculates the SD5cm indice: number of days with snow depth >= 5 cm [days] \n",
      "\n",
      "icclim_FD \t : Calculates the FD indice: number of frost days (i.e. days with daily minimum temperature < 0 degrees Celsius) [days]. \n",
      "\n",
      "icclim_R99p \t : Calculate the R99p indice: number of extremely wet days (i.e. days with daily precipitation amount > 99th percentile of daily amount in the base period). \n",
      "\n",
      "icclim_R95p \t : Calculate the R95p indice: number of very wet days (i.e. days with daily precipitation amount > 95th percentile of daily amount in the base period). \n",
      "\n",
      "icclim_SD1 \t : Calculates the SD1 indice: number of days with snow depth >= 1 cm [days] \n",
      "\n",
      "icclim_GD4 \t : Calculates the GD4 indice: growing degree days (sum of daily mean temperature > 4 degrees Celsius). \n",
      "\n",
      "icclim_TNn \t : Calculates the TNn indice: minimum of daily minimum temperature. \n",
      "\n",
      "icclim_HD17 \t : Calculates the HD17 indice: heating degree days (sum of (17 degrees Celsius - daily mean temperature)). \n",
      "\n",
      "icclim_ETR \t : Calculates the ETR indice: intra-period extreme temperature range. \n",
      "\n",
      "icclim_TX10p \t : Calculate the TX10p indice: number of cold day-times (i.e. days with daily max temperature < 10th percentile of daily max temperature in the base period). \n",
      "\n"
     ]
    }
   ],
   "source": [
    "for process in wpsFP.processes:\n",
    "    print ('%s \\t : %s \\n' %(process.identifier, process.abstract))"
   ]
  },
  {
   "cell_type": "code",
   "execution_count": 7,
   "metadata": {},
   "outputs": [
    {
     "name": "stdout",
     "output_type": "stream",
     "text": [
      "ProcessSucceeded\n",
      "https://pavics.ouranos.ca/wpsoutputs/catalog/f990ae8e-3c6b-11e9-988e-0242ac120008/list_result_2019-03-01T21:50:09Z__2I6iQW.json\n"
     ]
    }
   ],
   "source": [
    "proc_name = 'pavicsearch'\n",
    "constraintString = 'variable:tasmax'\n",
    "maxfiles = '1000000'\n",
    "myinputs = [('constraints', constraintString),('type','File'), ('limit',maxfiles)]\n",
    "execution = wpsCatalogue.execute(identifier=proc_name, inputs=myinputs)\n",
    "print(execution.status)\n",
    "print(execution.processOutputs[-1].reference)"
   ]
  },
  {
   "cell_type": "code",
   "execution_count": 8,
   "metadata": {},
   "outputs": [
    {
     "name": "stdout",
     "output_type": "stream",
     "text": [
      "inputs : facets  :  Comma separated list of facets; facets are searchable indexing terms in the database.\n",
      "inputs : shards  :  Shards to be queried\n",
      "inputs : offset  :  Where to start in the document count of the database search.\n",
      "inputs : limit  :  Maximum number of documents to return.\n",
      "inputs : fields  :  Comme separated list of fields to return.\n",
      "inputs : format  :  Output format.\n",
      "inputs : query  :  Direct query to the database.\n",
      "inputs : distrib  :  Distributed query\n",
      "inputs : type  :  One of Dataset, File, Aggregate or FileAsAggregate.\n",
      "inputs : constraints  :  Format is facet1:value1,facet2:value2,...\n",
      "inputs : esgf  :  Whether to also search ESGF nodes.\n",
      "inputs : list_type  :  Can be opendap_url, fileserver_url, gridftp_url, globus_url, wms_url\n",
      "outputs : search_result  :  PAVICS Catalogue Search Result\n",
      "outputs : list_result  :  List of urls of the search result.\n"
     ]
    }
   ],
   "source": [
    "proc_name = 'pavicsearch'\n",
    "process = wpsCatalogue.describeprocess(proc_name) # get process info\n",
    "for i in process.dataInputs:\n",
    "    print('inputs :', i.identifier, ' : ', i.abstract)\n",
    "for i in process.processOutputs:\n",
    "    print('outputs :', i.identifier, ' : ', i.abstract)"
   ]
  },
  {
   "cell_type": "code",
   "execution_count": 9,
   "metadata": {},
   "outputs": [
    {
     "name": "stdout",
     "output_type": "stream",
     "text": [
      "Subset  :  Return the data for which grid cells intersect the bounding box for each input dataset as well asthe time range selected. \n",
      "\n",
      "inputs : resource  :  NetCDF files, can be OPEnDAP urls.\n",
      "inputs : lon0  :  Minimum longitude.\n",
      "inputs : lon1  :  Maximum longitude.\n",
      "inputs : lat0  :  Minimum latitude.\n",
      "inputs : lat1  :  Maximum latitude.\n",
      "inputs : initial_datetime  :  Initial datetime for temporal subsetting.\n",
      "inputs : final_datetime  :  Final datetime for temporal subsetting.\n",
      "inputs : variable  :  Name of the variable in the NetCDF file.Will be guessed if not provided.\n",
      "outputs : output  :  JSON file with link to NetCDF outputs.\n"
     ]
    }
   ],
   "source": [
    "proc_name = 'subset_bbox'\n",
    "process = wpsFP.describeprocess(identifier=proc_name)\n",
    "\n",
    "print(process.title,' : ',process.abstract,'\\n')\n",
    "for i in process.dataInputs:\n",
    "    print('inputs :', i.identifier, ' : ', i.abstract)\n",
    "for i in process.processOutputs:\n",
    "    print('outputs :', i.identifier, ' : ', i.abstract)"
   ]
  },
  {
   "cell_type": "code",
   "execution_count": 10,
   "metadata": {},
   "outputs": [
    {
     "name": "stdout",
     "output_type": "stream",
     "text": [
      "Numer of files found : 13026 \n",
      "\n",
      "https://pavics.ouranos.ca/twitcher/ows/proxy/thredds/dodsC/birdhouse/ouranos/climex/QC11d3_CCCma-CanESM2_rcp85/day/historical-r1-r3i1p1/tasmax/tasmax_kdc_198902_se.nc\n",
      "https://pavics.ouranos.ca/twitcher/ows/proxy/thredds/dodsC/birdhouse/ouranos/climex/QC11d3_CCCma-CanESM2_rcp85/day/historical-r1-r1i1p1/tasmax/tasmax_kda_206005_se.nc\n",
      "https://pavics.ouranos.ca/twitcher/ows/proxy/thredds/dodsC/birdhouse/ouranos/cb-oura-1.0/HadGEM2-CC/rcp45/day/tasmax/tasmax_day_HadGEM2-CC_rcp45_r1i1p1_na10kgrid_qm-moving-50bins-detrend_2043.nc\n",
      "https://pavics.ouranos.ca/twitcher/ows/proxy/thredds/dodsC/birdhouse/ouranos/climex/QC11d3_CCCma-CanESM2_rcp85/day/historical-r1-r2i1p1/tasmax/tasmax_kdb_202907_se.nc\n",
      "https://pavics.ouranos.ca/twitcher/ows/proxy/thredds/dodsC/birdhouse/ouranos/climex/QC11d3_CCCma-CanESM2_rcp85/day/historical-r1-r1i1p1/tasmax/tasmax_kda_200310_se.nc\n",
      "https://pavics.ouranos.ca/twitcher/ows/proxy/thredds/dodsC/birdhouse/ouranos/climex/QC11d3_CCCma-CanESM2_rcp85/day/historical-r1-r3i1p1/tasmax/tasmax_kdc_209701_se.nc\n",
      "https://pavics.ouranos.ca/twitcher/ows/proxy/thredds/dodsC/birdhouse/ouranos/climex/QC11d3_CCCma-CanESM2_rcp85/day/historical-r1-r2i1p1/tasmax/tasmax_kdb_199110_se.nc\n",
      "https://pavics.ouranos.ca/twitcher/ows/proxy/thredds/dodsC/birdhouse/ouranos/cb-oura-1.0/GFDL-ESM2M/rcp45/day/tasmax/tasmax_day_GFDL-ESM2M_rcp45_r1i1p1_na10kgrid_qm-moving-50bins-detrend_2046.nc\n",
      "https://pavics.ouranos.ca/twitcher/ows/proxy/thredds/dodsC/birdhouse/ouranos/climex/QC11d3_CCCma-CanESM2_rcp85/day/historical-r1-r3i1p1/tasmax/tasmax_kdc_201311_se.nc\n",
      "https://pavics.ouranos.ca/twitcher/ows/proxy/thredds/dodsC/birdhouse/ouranos/climex/QC11d3_CCCma-CanESM2_rcp85/day/historical-r1-r4i1p1/tasmax/tasmax_kdd_202210_se.nc\n",
      "https://pavics.ouranos.ca/twitcher/ows/proxy/thredds/dodsC/birdhouse/ouranos/climex/QC11d3_CCCma-CanESM2_rcp85/day/historical-r1-r2i1p1/tasmax/tasmax_kdb_199406_se.nc\n",
      "https://pavics.ouranos.ca/twitcher/ows/proxy/thredds/dodsC/birdhouse/ouranos/cb-oura-1.0/NorESM1-M/rcp85/day/tasmax/tasmax_day_NorESM1-M_rcp85_r1i1p1_na10kgrid_qm-moving-50bins-detrend_1998.nc\n",
      "https://pavics.ouranos.ca/twitcher/ows/proxy/thredds/dodsC/birdhouse/ouranos/climex/QC11d3_CCCma-CanESM2_rcp85/day/historical-r1-r4i1p1/tasmax/tasmax_kdd_199403_se.nc\n",
      "https://pavics.ouranos.ca/twitcher/ows/proxy/thredds/dodsC/birdhouse/ouranos/climex/QC11d3_CCCma-CanESM2_rcp85/day/historical-r1-r2i1p1/tasmax/tasmax_kdb_201703_se.nc \n",
      "...\n"
     ]
    }
   ],
   "source": [
    "ref = parseStatus(execution)\n",
    "r = requests.get(ref)\n",
    "list_nc = r.json()\n",
    "print('Numer of files found :',len(list_nc), '\\n')\n",
    "print(\"\\n\".join(list_nc[1:15]),'\\n...')"
   ]
  },
  {
   "cell_type": "code",
   "execution_count": 11,
   "metadata": {},
   "outputs": [
    {
     "name": "stdout",
     "output_type": "stream",
     "text": [
      "Number of files : 3\n",
      " https://pavics.ouranos.ca/twitcher/ows/proxy/thredds/dodsC/birdhouse/nrcan/nrcan_canada_daily/tasmax/nrcan_canada_daily_tasmax_1991.nc\n",
      "https://pavics.ouranos.ca/twitcher/ows/proxy/thredds/dodsC/birdhouse/nrcan/nrcan_canada_daily/tasmax/nrcan_canada_daily_tasmax_1992.nc\n",
      "https://pavics.ouranos.ca/twitcher/ows/proxy/thredds/dodsC/birdhouse/nrcan/nrcan_canada_daily/tasmax/nrcan_canada_daily_tasmax_1993.nc\n"
     ]
    }
   ],
   "source": [
    "nrcan_nc = [i for i in list_nc if 'nrcan' in i and ('1991' in i or '1992' in i or '1993' in i)]\n",
    "# sort the filtered list\n",
    "nrcan_nc.sort()\n",
    "\n",
    "print('Number of files :', \"%s\\n\" % len(nrcan_nc), \"\\n\".join(nrcan_nc))"
   ]
  },
  {
   "cell_type": "code",
   "execution_count": 12,
   "metadata": {},
   "outputs": [
    {
     "name": "stdout",
     "output_type": "stream",
     "text": [
      "<type 'netCDF4._netCDF4.Dataset'>\n",
      "root group (NETCDF3_CLASSIC data model, file format DAP2):\n",
      "    Conventions: CF-1.5\n",
      "    title: NRCAN 10km Gridded Climate Dataset\n",
      "    history: 2012-10-22T11:26:06: Convert from original format to NetCDF\n",
      "    institution: NRCAN\n",
      "    source: ANUSPLIN\n",
      "    redistribution: Redistribution policy unknown. For internal use only.\n",
      "    DODS_EXTRA.Unlimited_Dimension: time\n",
      "    dimensions(sizes): time(365), lat(510), lon(1068), ts(3)\n",
      "    variables(dimensions): float32 \u001b[4mlon\u001b[0m(lon), float32 \u001b[4mlat\u001b[0m(lat), int16 \u001b[4mts\u001b[0m(ts), int16 \u001b[4mtime\u001b[0m(time), int16 \u001b[4mtime_vectors\u001b[0m(time,ts), float32 \u001b[4mtasmax\u001b[0m(time,lat,lon)\n",
      "    groups: \n",
      "\n"
     ]
    }
   ],
   "source": [
    "nc_test = Dataset(nrcan_nc[0])\n",
    "print(nc_test)"
   ]
  },
  {
   "cell_type": "code",
   "execution_count": 13,
   "metadata": {},
   "outputs": [
    {
     "name": "stdout",
     "output_type": "stream",
     "text": [
      "[('resource', 'https://pavics.ouranos.ca/twitcher/ows/proxy/thredds/dodsC/birdhouse/nrcan/nrcan_canada_daily/tasmax/nrcan_canada_daily_tasmax_1991.nc'), ('resource', 'https://pavics.ouranos.ca/twitcher/ows/proxy/thredds/dodsC/birdhouse/nrcan/nrcan_canada_daily/tasmax/nrcan_canada_daily_tasmax_1992.nc'), ('resource', 'https://pavics.ouranos.ca/twitcher/ows/proxy/thredds/dodsC/birdhouse/nrcan/nrcan_canada_daily/tasmax/nrcan_canada_daily_tasmax_1993.nc'), ('lon0', '-80.0'), ('lon1', '-70.0'), ('lat0', '44.0'), ('lat1', '50')]\n"
     ]
    }
   ],
   "source": [
    "myinputs = []\n",
    "# To keep things reasonably quick : subset jan-april\n",
    "for i in nrcan_nc: \n",
    "    myinputs.append(('resource', i))\n",
    "myinputs.append(('lon0', '-80.0'))\n",
    "myinputs.append(('lon1', '-70.0'))\n",
    "myinputs.append(('lat0', '44.0'))\n",
    "myinputs.append(('lat1', '50'))\n",
    "print(myinputs)"
   ]
  },
  {
   "cell_type": "code",
   "execution_count": 14,
   "metadata": {},
   "outputs": [
    {
     "name": "stdout",
     "output_type": "stream",
     "text": [
      "ProcessSucceeded\n",
      "https://pavics.ouranos.ca:443/wpsoutputs/flyingpigeon/0fc900f2-3c6c-11e9-9291-0242ac120010/result_2019-03-01T21:50:56Z__pCYZio.json\n",
      "https://pavics.ouranos.ca:443/wpsoutputs/flyingpigeon/0fc900f2-3c6c-11e9-9291-0242ac120010.xml\n"
     ]
    }
   ],
   "source": [
    "execution = wpsFP.execute(identifier=proc_name, inputs=myinputs)\n",
    "print(execution.status)\n",
    "print(execution.processOutputs[-1].reference)\n",
    "print(execution.statusLocation)"
   ]
  },
  {
   "cell_type": "code",
   "execution_count": null,
   "metadata": {
    "collapsed": true
   },
   "outputs": [],
   "source": []
  }
 ],
 "metadata": {
  "kernelspec": {
   "display_name": "Python 2.7 (Birdy)",
   "language": "python",
   "name": "birdy"
  },
  "language_info": {
   "codemirror_mode": {
    "name": "ipython",
    "version": 2
   },
   "file_extension": ".py",
   "mimetype": "text/x-python",
   "name": "python",
   "nbconvert_exporter": "python",
   "pygments_lexer": "ipython2",
   "version": "2.7.15"
  }
 },
 "nbformat": 4,
 "nbformat_minor": 2
}
